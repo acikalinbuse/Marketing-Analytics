{
 "cells": [
  {
   "cell_type": "code",
   "execution_count": 3,
   "metadata": {},
   "outputs": [
    {
     "data": {
      "text/html": [
       "<table>\n",
       "<thead><tr><th scope=col>Country</th><th scope=col>Population</th><th scope=col>GDPperHead</th><th scope=col>UnemploymentRate</th><th scope=col>EducationSpending</th><th scope=col>SalesPerCapita</th><th scope=col>ComputerSales</th></tr></thead>\n",
       "<tbody>\n",
       "\t<tr><td>Austria    </td><td> 8.4       </td><td>49.60      </td><td> 4.2       </td><td>5.8        </td><td>112        </td><td> 941       </td></tr>\n",
       "\t<tr><td>Belgium    </td><td>10.5       </td><td>47.09      </td><td> 8.1       </td><td>5.9        </td><td>160        </td><td>1682       </td></tr>\n",
       "\t<tr><td>Bulgaria   </td><td> 7.6       </td><td> 6.55      </td><td>13.5       </td><td>3.5        </td><td> 20        </td><td> 154       </td></tr>\n",
       "\t<tr><td>Czech Rep. </td><td>10.2       </td><td>20.67      </td><td> 6.6       </td><td>4.4        </td><td>101        </td><td>1029       </td></tr>\n",
       "\t<tr><td>Denmark    </td><td> 5.5       </td><td>62.12      </td><td> 5.2       </td><td>8.4        </td><td>170        </td><td> 935       </td></tr>\n",
       "\t<tr><td>Finland    </td><td> 5.3       </td><td>51.32      </td><td> 9.9       </td><td>6.3        </td><td>372        </td><td>1971       </td></tr>\n",
       "\t<tr><td>France     </td><td>61.9       </td><td>44.51      </td><td>10.0       </td><td>5.7        </td><td> 96        </td><td>5929       </td></tr>\n",
       "\t<tr><td>Germany    </td><td>82.5       </td><td>44.45      </td><td> 9.1       </td><td>4.6        </td><td> 83        </td><td>6824       </td></tr>\n",
       "\t<tr><td>Greece     </td><td>11.2       </td><td>31.67      </td><td> 9.9       </td><td>3.9        </td><td> 73        </td><td> 813       </td></tr>\n",
       "\t<tr><td>Hungary    </td><td>10.0       </td><td>15.41      </td><td> 7.3       </td><td>5.1        </td><td> 45        </td><td> 449       </td></tr>\n",
       "\t<tr><td>Ireland    </td><td> 4.4       </td><td>60.46      </td><td> 6.3       </td><td>4.3        </td><td>131        </td><td> 577       </td></tr>\n",
       "\t<tr><td>Italy      </td><td>58.9       </td><td>38.49      </td><td> 9.3       </td><td>5.0        </td><td> 66        </td><td>3858       </td></tr>\n",
       "\t<tr><td>Netherlands</td><td>16.5       </td><td>52.96      </td><td> 4.4       </td><td>5.0        </td><td>131        </td><td>2169       </td></tr>\n",
       "\t<tr><td>Poland     </td><td>38.0       </td><td>13.85      </td><td>14.4       </td><td>5.6        </td><td> 75        </td><td>2847       </td></tr>\n",
       "\t<tr><td>Portugal   </td><td>10.7       </td><td>22.92      </td><td> 6.3       </td><td>5.9        </td><td> 68        </td><td> 729       </td></tr>\n",
       "\t<tr><td>Romania    </td><td>21.3       </td><td> 9.30      </td><td> 7.0       </td><td>3.3        </td><td> 32        </td><td> 687       </td></tr>\n",
       "\t<tr><td>Spain      </td><td>44.8       </td><td>35.22      </td><td>14.2       </td><td>4.4        </td><td>106        </td><td>4746       </td></tr>\n",
       "\t<tr><td>Switzerland</td><td> 7.5       </td><td>64.43      </td><td> 3.6       </td><td>5.6        </td><td>151        </td><td>1130       </td></tr>\n",
       "\t<tr><td>Sweden     </td><td> 9.2       </td><td>51.95      </td><td> 6.3       </td><td>7.6        </td><td>230        </td><td>2113       </td></tr>\n",
       "\t<tr><td>Turkey     </td><td>75.8       </td><td> 9.94      </td><td> 8.6       </td><td>3.7        </td><td> 38        </td><td>2879       </td></tr>\n",
       "\t<tr><td>UK         </td><td>61.0       </td><td>43.54      </td><td> 5.9       </td><td>4.8        </td><td>162        </td><td>9887       </td></tr>\n",
       "</tbody>\n",
       "</table>\n"
      ],
      "text/latex": [
       "\\begin{tabular}{r|lllllll}\n",
       " Country & Population & GDPperHead & UnemploymentRate & EducationSpending & SalesPerCapita & ComputerSales\\\\\n",
       "\\hline\n",
       "\t Austria     &  8.4        & 49.60       &  4.2        & 5.8         & 112         &  941       \\\\\n",
       "\t Belgium     & 10.5        & 47.09       &  8.1        & 5.9         & 160         & 1682       \\\\\n",
       "\t Bulgaria    &  7.6        &  6.55       & 13.5        & 3.5         &  20         &  154       \\\\\n",
       "\t Czech Rep.  & 10.2        & 20.67       &  6.6        & 4.4         & 101         & 1029       \\\\\n",
       "\t Denmark     &  5.5        & 62.12       &  5.2        & 8.4         & 170         &  935       \\\\\n",
       "\t Finland     &  5.3        & 51.32       &  9.9        & 6.3         & 372         & 1971       \\\\\n",
       "\t France      & 61.9        & 44.51       & 10.0        & 5.7         &  96         & 5929       \\\\\n",
       "\t Germany     & 82.5        & 44.45       &  9.1        & 4.6         &  83         & 6824       \\\\\n",
       "\t Greece      & 11.2        & 31.67       &  9.9        & 3.9         &  73         &  813       \\\\\n",
       "\t Hungary     & 10.0        & 15.41       &  7.3        & 5.1         &  45         &  449       \\\\\n",
       "\t Ireland     &  4.4        & 60.46       &  6.3        & 4.3         & 131         &  577       \\\\\n",
       "\t Italy       & 58.9        & 38.49       &  9.3        & 5.0         &  66         & 3858       \\\\\n",
       "\t Netherlands & 16.5        & 52.96       &  4.4        & 5.0         & 131         & 2169       \\\\\n",
       "\t Poland      & 38.0        & 13.85       & 14.4        & 5.6         &  75         & 2847       \\\\\n",
       "\t Portugal    & 10.7        & 22.92       &  6.3        & 5.9         &  68         &  729       \\\\\n",
       "\t Romania     & 21.3        &  9.30       &  7.0        & 3.3         &  32         &  687       \\\\\n",
       "\t Spain       & 44.8        & 35.22       & 14.2        & 4.4         & 106         & 4746       \\\\\n",
       "\t Switzerland &  7.5        & 64.43       &  3.6        & 5.6         & 151         & 1130       \\\\\n",
       "\t Sweden      &  9.2        & 51.95       &  6.3        & 7.6         & 230         & 2113       \\\\\n",
       "\t Turkey      & 75.8        &  9.94       &  8.6        & 3.7         &  38         & 2879       \\\\\n",
       "\t UK          & 61.0        & 43.54       &  5.9        & 4.8         & 162         & 9887       \\\\\n",
       "\\end{tabular}\n"
      ],
      "text/markdown": [
       "\n",
       "| Country | Population | GDPperHead | UnemploymentRate | EducationSpending | SalesPerCapita | ComputerSales |\n",
       "|---|---|---|---|---|---|---|\n",
       "| Austria     |  8.4        | 49.60       |  4.2        | 5.8         | 112         |  941        |\n",
       "| Belgium     | 10.5        | 47.09       |  8.1        | 5.9         | 160         | 1682        |\n",
       "| Bulgaria    |  7.6        |  6.55       | 13.5        | 3.5         |  20         |  154        |\n",
       "| Czech Rep.  | 10.2        | 20.67       |  6.6        | 4.4         | 101         | 1029        |\n",
       "| Denmark     |  5.5        | 62.12       |  5.2        | 8.4         | 170         |  935        |\n",
       "| Finland     |  5.3        | 51.32       |  9.9        | 6.3         | 372         | 1971        |\n",
       "| France      | 61.9        | 44.51       | 10.0        | 5.7         |  96         | 5929        |\n",
       "| Germany     | 82.5        | 44.45       |  9.1        | 4.6         |  83         | 6824        |\n",
       "| Greece      | 11.2        | 31.67       |  9.9        | 3.9         |  73         |  813        |\n",
       "| Hungary     | 10.0        | 15.41       |  7.3        | 5.1         |  45         |  449        |\n",
       "| Ireland     |  4.4        | 60.46       |  6.3        | 4.3         | 131         |  577        |\n",
       "| Italy       | 58.9        | 38.49       |  9.3        | 5.0         |  66         | 3858        |\n",
       "| Netherlands | 16.5        | 52.96       |  4.4        | 5.0         | 131         | 2169        |\n",
       "| Poland      | 38.0        | 13.85       | 14.4        | 5.6         |  75         | 2847        |\n",
       "| Portugal    | 10.7        | 22.92       |  6.3        | 5.9         |  68         |  729        |\n",
       "| Romania     | 21.3        |  9.30       |  7.0        | 3.3         |  32         |  687        |\n",
       "| Spain       | 44.8        | 35.22       | 14.2        | 4.4         | 106         | 4746        |\n",
       "| Switzerland |  7.5        | 64.43       |  3.6        | 5.6         | 151         | 1130        |\n",
       "| Sweden      |  9.2        | 51.95       |  6.3        | 7.6         | 230         | 2113        |\n",
       "| Turkey      | 75.8        |  9.94       |  8.6        | 3.7         |  38         | 2879        |\n",
       "| UK          | 61.0        | 43.54       |  5.9        | 4.8         | 162         | 9887        |\n",
       "\n"
      ],
      "text/plain": [
       "   Country     Population GDPperHead UnemploymentRate EducationSpending\n",
       "1  Austria      8.4       49.60       4.2             5.8              \n",
       "2  Belgium     10.5       47.09       8.1             5.9              \n",
       "3  Bulgaria     7.6        6.55      13.5             3.5              \n",
       "4  Czech Rep.  10.2       20.67       6.6             4.4              \n",
       "5  Denmark      5.5       62.12       5.2             8.4              \n",
       "6  Finland      5.3       51.32       9.9             6.3              \n",
       "7  France      61.9       44.51      10.0             5.7              \n",
       "8  Germany     82.5       44.45       9.1             4.6              \n",
       "9  Greece      11.2       31.67       9.9             3.9              \n",
       "10 Hungary     10.0       15.41       7.3             5.1              \n",
       "11 Ireland      4.4       60.46       6.3             4.3              \n",
       "12 Italy       58.9       38.49       9.3             5.0              \n",
       "13 Netherlands 16.5       52.96       4.4             5.0              \n",
       "14 Poland      38.0       13.85      14.4             5.6              \n",
       "15 Portugal    10.7       22.92       6.3             5.9              \n",
       "16 Romania     21.3        9.30       7.0             3.3              \n",
       "17 Spain       44.8       35.22      14.2             4.4              \n",
       "18 Switzerland  7.5       64.43       3.6             5.6              \n",
       "19 Sweden       9.2       51.95       6.3             7.6              \n",
       "20 Turkey      75.8        9.94       8.6             3.7              \n",
       "21 UK          61.0       43.54       5.9             4.8              \n",
       "   SalesPerCapita ComputerSales\n",
       "1  112             941         \n",
       "2  160            1682         \n",
       "3   20             154         \n",
       "4  101            1029         \n",
       "5  170             935         \n",
       "6  372            1971         \n",
       "7   96            5929         \n",
       "8   83            6824         \n",
       "9   73             813         \n",
       "10  45             449         \n",
       "11 131             577         \n",
       "12  66            3858         \n",
       "13 131            2169         \n",
       "14  75            2847         \n",
       "15  68             729         \n",
       "16  32             687         \n",
       "17 106            4746         \n",
       "18 151            1130         \n",
       "19 230            2113         \n",
       "20  38            2879         \n",
       "21 162            9887         "
      ]
     },
     "metadata": {},
     "output_type": "display_data"
    }
   ],
   "source": [
    "EuropeanSales= read.csv(\"C:\\\\Users\\\\busea\\\\Desktop\\\\EuropeanSales.csv\", header=TRUE, sep=\",\")\n",
    "EuropeanSales"
   ]
  },
  {
   "cell_type": "code",
   "execution_count": 4,
   "metadata": {},
   "outputs": [
    {
     "data": {
      "text/html": [
       "<dl>\n",
       "\t<dt>$names</dt>\n",
       "\t\t<dd><ol class=list-inline>\n",
       "\t<li>'Country'</li>\n",
       "\t<li>'Population'</li>\n",
       "\t<li>'GDPperHead'</li>\n",
       "\t<li>'UnemploymentRate'</li>\n",
       "\t<li>'EducationSpending'</li>\n",
       "\t<li>'SalesPerCapita'</li>\n",
       "\t<li>'ComputerSales'</li>\n",
       "</ol>\n",
       "</dd>\n",
       "\t<dt>$class</dt>\n",
       "\t\t<dd>'data.frame'</dd>\n",
       "\t<dt>$row.names</dt>\n",
       "\t\t<dd><ol class=list-inline>\n",
       "\t<li>1</li>\n",
       "\t<li>2</li>\n",
       "\t<li>3</li>\n",
       "\t<li>4</li>\n",
       "\t<li>5</li>\n",
       "\t<li>6</li>\n",
       "\t<li>7</li>\n",
       "\t<li>8</li>\n",
       "\t<li>9</li>\n",
       "\t<li>10</li>\n",
       "\t<li>11</li>\n",
       "\t<li>12</li>\n",
       "\t<li>13</li>\n",
       "\t<li>14</li>\n",
       "\t<li>15</li>\n",
       "\t<li>16</li>\n",
       "\t<li>17</li>\n",
       "\t<li>18</li>\n",
       "\t<li>19</li>\n",
       "\t<li>20</li>\n",
       "\t<li>21</li>\n",
       "</ol>\n",
       "</dd>\n",
       "</dl>\n"
      ],
      "text/latex": [
       "\\begin{description}\n",
       "\\item[\\$names] \\begin{enumerate*}\n",
       "\\item 'Country'\n",
       "\\item 'Population'\n",
       "\\item 'GDPperHead'\n",
       "\\item 'UnemploymentRate'\n",
       "\\item 'EducationSpending'\n",
       "\\item 'SalesPerCapita'\n",
       "\\item 'ComputerSales'\n",
       "\\end{enumerate*}\n",
       "\n",
       "\\item[\\$class] 'data.frame'\n",
       "\\item[\\$row.names] \\begin{enumerate*}\n",
       "\\item 1\n",
       "\\item 2\n",
       "\\item 3\n",
       "\\item 4\n",
       "\\item 5\n",
       "\\item 6\n",
       "\\item 7\n",
       "\\item 8\n",
       "\\item 9\n",
       "\\item 10\n",
       "\\item 11\n",
       "\\item 12\n",
       "\\item 13\n",
       "\\item 14\n",
       "\\item 15\n",
       "\\item 16\n",
       "\\item 17\n",
       "\\item 18\n",
       "\\item 19\n",
       "\\item 20\n",
       "\\item 21\n",
       "\\end{enumerate*}\n",
       "\n",
       "\\end{description}\n"
      ],
      "text/markdown": [
       "$names\n",
       ":   1. 'Country'\n",
       "2. 'Population'\n",
       "3. 'GDPperHead'\n",
       "4. 'UnemploymentRate'\n",
       "5. 'EducationSpending'\n",
       "6. 'SalesPerCapita'\n",
       "7. 'ComputerSales'\n",
       "\n",
       "\n",
       "\n",
       "$class\n",
       ":   'data.frame'\n",
       "$row.names\n",
       ":   1. 1\n",
       "2. 2\n",
       "3. 3\n",
       "4. 4\n",
       "5. 5\n",
       "6. 6\n",
       "7. 7\n",
       "8. 8\n",
       "9. 9\n",
       "10. 10\n",
       "11. 11\n",
       "12. 12\n",
       "13. 13\n",
       "14. 14\n",
       "15. 15\n",
       "16. 16\n",
       "17. 17\n",
       "18. 18\n",
       "19. 19\n",
       "20. 20\n",
       "21. 21\n",
       "\n",
       "\n",
       "\n",
       "\n",
       "\n"
      ],
      "text/plain": [
       "$names\n",
       "[1] \"Country\"           \"Population\"        \"GDPperHead\"       \n",
       "[4] \"UnemploymentRate\"  \"EducationSpending\" \"SalesPerCapita\"   \n",
       "[7] \"ComputerSales\"    \n",
       "\n",
       "$class\n",
       "[1] \"data.frame\"\n",
       "\n",
       "$row.names\n",
       " [1]  1  2  3  4  5  6  7  8  9 10 11 12 13 14 15 16 17 18 19 20 21\n"
      ]
     },
     "metadata": {},
     "output_type": "display_data"
    },
    {
     "data": {
      "text/plain": [
       "       Country     Population      GDPperHead    UnemploymentRate\n",
       " Austria   : 1   Min.   : 4.40   Min.   : 6.55   Min.   : 3.6    \n",
       " Belgium   : 1   1st Qu.: 8.40   1st Qu.:20.67   1st Qu.: 6.3    \n",
       " Bulgaria  : 1   Median :10.70   Median :43.54   Median : 7.3    \n",
       " Czech Rep.: 1   Mean   :26.72   Mean   :36.97   Mean   : 8.1    \n",
       " Denmark   : 1   3rd Qu.:44.80   3rd Qu.:51.32   3rd Qu.: 9.9    \n",
       " Finland   : 1   Max.   :82.50   Max.   :64.43   Max.   :14.4    \n",
       " (Other)   :15                                                   \n",
       " EducationSpending SalesPerCapita  ComputerSales \n",
       " Min.   :3.300     Min.   : 20.0   Min.   : 154  \n",
       " 1st Qu.:4.400     1st Qu.: 68.0   1st Qu.: 813  \n",
       " Median :5.000     Median :101.0   Median :1682  \n",
       " Mean   :5.181     Mean   :115.3   Mean   :2493  \n",
       " 3rd Qu.:5.800     3rd Qu.:151.0   3rd Qu.:2879  \n",
       " Max.   :8.400     Max.   :372.0   Max.   :9887  \n",
       "                                                 "
      ]
     },
     "metadata": {},
     "output_type": "display_data"
    }
   ],
   "source": [
    "attributes(EuropeanSales)\n",
    "summary(EuropeanSales)"
   ]
  },
  {
   "cell_type": "code",
   "execution_count": 5,
   "metadata": {},
   "outputs": [
    {
     "data": {
      "image/png": "[encoded data removed]",
      "text/plain": [
       "plot without title"
      ]
     },
     "metadata": {},
     "output_type": "display_data"
    }
   ],
   "source": [
    "plot(EuropeanSales)"
   ]
  },
  {
   "cell_type": "code",
   "execution_count": 6,
   "metadata": {},
   "outputs": [
    {
     "data": {
      "image/png": "[encoded data removed]",
      "text/plain": [
       "plot without title"
      ]
     },
     "metadata": {},
     "output_type": "display_data"
    },
    {
     "data": {
      "image/png": "[encoded data removed]",
      "text/plain": [
       "plot without title"
      ]
     },
     "metadata": {},
     "output_type": "display_data"
    }
   ],
   "source": [
    "boxplot(EuropeanSales$SalesPerCapita)\n",
    "boxplot(EuropeanSales$ComputerSales)"
   ]
  },
  {
   "cell_type": "code",
   "execution_count": 7,
   "metadata": {},
   "outputs": [],
   "source": [
    "EuropeanSales$Country=factor(EuropeanSales$Country, \n",
    "                                 levels = c(\"Austria\", \"Belgium\", \"Bulgaria\", \"Czech Rep.\",\"Denmark\", \"Finland\",\"France\",\"Germany\",\n",
    "                                            \"Greece\",\"Hungary\",\"Ireland\",\"Italy\",\"Netherlands\",\"Poland\",\"Portugal\",\"Romania\",\"Spain\",\n",
    "                                            \"Switzerland\",\"Sweden\",\"Turkey\",\"UK\"), labels = c(1,2,3,4,5,6,7,8,9,10,11,12,13,14,15,16,17,18,19,20,21) )\n",
    "\n",
    "EuropeanSales$Country<-as.integer(EuropeanSales$Country)\n"
   ]
  },
  {
   "cell_type": "code",
   "execution_count": 8,
   "metadata": {},
   "outputs": [
    {
     "data": {
      "text/html": [
       "<table>\n",
       "<thead><tr><th></th><th scope=col>Country</th><th scope=col>Population</th><th scope=col>GDPperHead</th><th scope=col>UnemploymentRate</th><th scope=col>EducationSpending</th><th scope=col>SalesPerCapita</th><th scope=col>ComputerSales</th></tr></thead>\n",
       "<tbody>\n",
       "\t<tr><th scope=row>Country</th><td> 1.00000000</td><td> 0.3529976 </td><td>-0.0904680 </td><td>-0.0657977 </td><td>-0.13769985</td><td>-0.06642873</td><td> 0.34313933</td></tr>\n",
       "\t<tr><th scope=row>Population</th><td> 0.35299762</td><td> 1.0000000 </td><td>-0.1752359 </td><td> 0.3210351 </td><td>-0.29288051</td><td>-0.29838340</td><td> 0.80797112</td></tr>\n",
       "\t<tr><th scope=row>GDPperHead</th><td>-0.09046800</td><td>-0.1752359 </td><td> 1.0000000 </td><td>-0.5024185 </td><td> 0.58911054</td><td> 0.66225363</td><td> 0.15155568</td></tr>\n",
       "\t<tr><th scope=row>UnemploymentRate</th><td>-0.06579770</td><td> 0.3210351 </td><td>-0.5024185 </td><td> 1.0000000 </td><td>-0.31430933</td><td>-0.21360529</td><td> 0.17184911</td></tr>\n",
       "\t<tr><th scope=row>EducationSpending</th><td>-0.13769985</td><td>-0.2928805 </td><td> 0.5891105 </td><td>-0.3143093 </td><td> 1.00000000</td><td> 0.61217963</td><td>-0.05269015</td></tr>\n",
       "\t<tr><th scope=row>SalesPerCapita</th><td>-0.06642873</td><td>-0.2983834 </td><td> 0.6622536 </td><td>-0.2136053 </td><td> 0.61217963</td><td> 1.00000000</td><td> 0.08141779</td></tr>\n",
       "\t<tr><th scope=row>ComputerSales</th><td> 0.34313933</td><td> 0.8079711 </td><td> 0.1515557 </td><td> 0.1718491 </td><td>-0.05269015</td><td> 0.08141779</td><td> 1.00000000</td></tr>\n",
       "</tbody>\n",
       "</table>\n"
      ],
      "text/latex": [
       "\\begin{tabular}{r|lllllll}\n",
       "  & Country & Population & GDPperHead & UnemploymentRate & EducationSpending & SalesPerCapita & ComputerSales\\\\\n",
       "\\hline\n",
       "\tCountry &  1.00000000 &  0.3529976  & -0.0904680  & -0.0657977  & -0.13769985 & -0.06642873 &  0.34313933\\\\\n",
       "\tPopulation &  0.35299762 &  1.0000000  & -0.1752359  &  0.3210351  & -0.29288051 & -0.29838340 &  0.80797112\\\\\n",
       "\tGDPperHead & -0.09046800 & -0.1752359  &  1.0000000  & -0.5024185  &  0.58911054 &  0.66225363 &  0.15155568\\\\\n",
       "\tUnemploymentRate & -0.06579770 &  0.3210351  & -0.5024185  &  1.0000000  & -0.31430933 & -0.21360529 &  0.17184911\\\\\n",
       "\tEducationSpending & -0.13769985 & -0.2928805  &  0.5891105  & -0.3143093  &  1.00000000 &  0.61217963 & -0.05269015\\\\\n",
       "\tSalesPerCapita & -0.06642873 & -0.2983834  &  0.6622536  & -0.2136053  &  0.61217963 &  1.00000000 &  0.08141779\\\\\n",
       "\tComputerSales &  0.34313933 &  0.8079711  &  0.1515557  &  0.1718491  & -0.05269015 &  0.08141779 &  1.00000000\\\\\n",
       "\\end{tabular}\n"
      ],
      "text/markdown": [
       "\n",
       "| <!--/--> | Country | Population | GDPperHead | UnemploymentRate | EducationSpending | SalesPerCapita | ComputerSales |\n",
       "|---|---|---|---|---|---|---|---|\n",
       "| Country |  1.00000000 |  0.3529976  | -0.0904680  | -0.0657977  | -0.13769985 | -0.06642873 |  0.34313933 |\n",
       "| Population |  0.35299762 |  1.0000000  | -0.1752359  |  0.3210351  | -0.29288051 | -0.29838340 |  0.80797112 |\n",
       "| GDPperHead | -0.09046800 | -0.1752359  |  1.0000000  | -0.5024185  |  0.58911054 |  0.66225363 |  0.15155568 |\n",
       "| UnemploymentRate | -0.06579770 |  0.3210351  | -0.5024185  |  1.0000000  | -0.31430933 | -0.21360529 |  0.17184911 |\n",
       "| EducationSpending | -0.13769985 | -0.2928805  |  0.5891105  | -0.3143093  |  1.00000000 |  0.61217963 | -0.05269015 |\n",
       "| SalesPerCapita | -0.06642873 | -0.2983834  |  0.6622536  | -0.2136053  |  0.61217963 |  1.00000000 |  0.08141779 |\n",
       "| ComputerSales |  0.34313933 |  0.8079711  |  0.1515557  |  0.1718491  | -0.05269015 |  0.08141779 |  1.00000000 |\n",
       "\n"
      ],
      "text/plain": [
       "                  Country     Population GDPperHead UnemploymentRate\n",
       "Country            1.00000000  0.3529976 -0.0904680 -0.0657977      \n",
       "Population         0.35299762  1.0000000 -0.1752359  0.3210351      \n",
       "GDPperHead        -0.09046800 -0.1752359  1.0000000 -0.5024185      \n",
       "UnemploymentRate  -0.06579770  0.3210351 -0.5024185  1.0000000      \n",
       "EducationSpending -0.13769985 -0.2928805  0.5891105 -0.3143093      \n",
       "SalesPerCapita    -0.06642873 -0.2983834  0.6622536 -0.2136053      \n",
       "ComputerSales      0.34313933  0.8079711  0.1515557  0.1718491      \n",
       "                  EducationSpending SalesPerCapita ComputerSales\n",
       "Country           -0.13769985       -0.06642873     0.34313933  \n",
       "Population        -0.29288051       -0.29838340     0.80797112  \n",
       "GDPperHead         0.58911054        0.66225363     0.15155568  \n",
       "UnemploymentRate  -0.31430933       -0.21360529     0.17184911  \n",
       "EducationSpending  1.00000000        0.61217963    -0.05269015  \n",
       "SalesPerCapita     0.61217963        1.00000000     0.08141779  \n",
       "ComputerSales     -0.05269015        0.08141779     1.00000000  "
      ]
     },
     "metadata": {},
     "output_type": "display_data"
    }
   ],
   "source": [
    "cor(EuropeanSales[,])"
   ]
  },
  {
   "cell_type": "code",
   "execution_count": 11,
   "metadata": {},
   "outputs": [
    {
     "data": {
      "text/plain": [
       "\n",
       "Call:\n",
       "lm(formula = SalesPerCapita ~ GDPperHead + Country, data = EuropeanSales)\n",
       "\n",
       "Residuals:\n",
       "   Min     1Q Median     3Q    Max \n",
       "-53.52 -39.54 -10.02  15.58 216.06 \n",
       "\n",
       "Coefficients:\n",
       "            Estimate Std. Error t value Pr(>|t|)   \n",
       "(Intercept) 12.68888   41.18984   0.308  0.76157   \n",
       "GDPperHead   2.80102    0.75068   3.731  0.00153 **\n",
       "Country     -0.08361    2.25689  -0.037  0.97085   \n",
       "---\n",
       "Signif. codes:  0 '***' 0.001 '**' 0.01 '*' 0.05 '.' 0.1 ' ' 1\n",
       "\n",
       "Residual standard error: 62.37 on 18 degrees of freedom\n",
       "Multiple R-squared:  0.4386,\tAdjusted R-squared:  0.3762 \n",
       "F-statistic: 7.032 on 2 and 18 DF,  p-value: 0.005537\n"
      ]
     },
     "metadata": {},
     "output_type": "display_data"
    },
    {
     "data": {
      "text/plain": [
       "\n",
       "Call:\n",
       "lm(formula = SalesPerCapita ~ GDPperHead + Country + EducationSpending, \n",
       "    data = EuropeanSales)\n",
       "\n",
       "Residuals:\n",
       "    Min      1Q  Median      3Q     Max \n",
       "-61.472 -33.708  -4.885   9.499 206.165 \n",
       "\n",
       "Coefficients:\n",
       "                  Estimate Std. Error t value Pr(>|t|)  \n",
       "(Intercept)       -70.6886    64.5474  -1.095   0.2887  \n",
       "GDPperHead          1.9568     0.8853   2.210   0.0411 *\n",
       "Country             0.2879     2.1715   0.133   0.8961  \n",
       "EducationSpending  21.3288    13.0765   1.631   0.1213  \n",
       "---\n",
       "Signif. codes:  0 '***' 0.001 '**' 0.01 '*' 0.05 '.' 0.1 ' ' 1\n",
       "\n",
       "Residual standard error: 59.68 on 17 degrees of freedom\n",
       "Multiple R-squared:  0.5146,\tAdjusted R-squared:  0.4289 \n",
       "F-statistic: 6.007 on 3 and 17 DF,  p-value: 0.00554\n"
      ]
     },
     "metadata": {},
     "output_type": "display_data"
    },
    {
     "data": {
      "text/plain": [
       "\n",
       "Call:\n",
       "lm(formula = SalesPerCapita ~ GDPperHead + Country + EducationSpending + \n",
       "    UnemploymentRate, data = EuropeanSales)\n",
       "\n",
       "Residuals:\n",
       "   Min     1Q Median     3Q    Max \n",
       "-57.70 -24.69 -11.61  10.46 193.83 \n",
       "\n",
       "Coefficients:\n",
       "                   Estimate Std. Error t value Pr(>|t|)  \n",
       "(Intercept)       -124.9372    89.6851  -1.393   0.1827  \n",
       "GDPperHead           2.3166     0.9811   2.361   0.0312 *\n",
       "Country              0.5448     2.2058   0.247   0.8080  \n",
       "EducationSpending   21.7954    13.1765   1.654   0.1176  \n",
       "UnemploymentRate     4.4078     5.0218   0.878   0.3931  \n",
       "---\n",
       "Signif. codes:  0 '***' 0.001 '**' 0.01 '*' 0.05 '.' 0.1 ' ' 1\n",
       "\n",
       "Residual standard error: 60.08 on 16 degrees of freedom\n",
       "Multiple R-squared:  0.5369,\tAdjusted R-squared:  0.4211 \n",
       "F-statistic: 4.637 on 4 and 16 DF,  p-value: 0.0112\n"
      ]
     },
     "metadata": {},
     "output_type": "display_data"
    },
    {
     "data": {
      "text/plain": [
       "\n",
       "Call:\n",
       "lm(formula = SalesPerCapita ~ GDPperHead + Country + EducationSpending + \n",
       "    UnemploymentRate, data = EuropeanSales)\n",
       "\n",
       "Residuals:\n",
       "   Min     1Q Median     3Q    Max \n",
       "-57.70 -24.69 -11.61  10.46 193.83 \n",
       "\n",
       "Coefficients:\n",
       "                   Estimate Std. Error t value Pr(>|t|)  \n",
       "(Intercept)       -124.9372    89.6851  -1.393   0.1827  \n",
       "GDPperHead           2.3166     0.9811   2.361   0.0312 *\n",
       "Country              0.5448     2.2058   0.247   0.8080  \n",
       "EducationSpending   21.7954    13.1765   1.654   0.1176  \n",
       "UnemploymentRate     4.4078     5.0218   0.878   0.3931  \n",
       "---\n",
       "Signif. codes:  0 '***' 0.001 '**' 0.01 '*' 0.05 '.' 0.1 ' ' 1\n",
       "\n",
       "Residual standard error: 60.08 on 16 degrees of freedom\n",
       "Multiple R-squared:  0.5369,\tAdjusted R-squared:  0.4211 \n",
       "F-statistic: 4.637 on 4 and 16 DF,  p-value: 0.0112\n"
      ]
     },
     "metadata": {},
     "output_type": "display_data"
    },
    {
     "data": {
      "text/plain": [
       "\n",
       "Call:\n",
       "lm(formula = SalesPerCapita ~ GDPperHead + Country + EducationSpending + \n",
       "    UnemploymentRate + Population, data = EuropeanSales)\n",
       "\n",
       "Residuals:\n",
       "   Min     1Q Median     3Q    Max \n",
       "-53.46 -28.55 -20.20  15.33 181.34 \n",
       "\n",
       "Coefficients:\n",
       "                   Estimate Std. Error t value Pr(>|t|)  \n",
       "(Intercept)       -123.8727    88.4789  -1.400   0.1818  \n",
       "GDPperHead           2.4933     0.9790   2.547   0.0223 *\n",
       "Country              1.6340     2.3576   0.693   0.4989  \n",
       "EducationSpending   18.3431    13.3130   1.378   0.1885  \n",
       "UnemploymentRate     6.5670     5.2705   1.246   0.2319  \n",
       "Population          -0.7177     0.5979  -1.200   0.2486  \n",
       "---\n",
       "Signif. codes:  0 '***' 0.001 '**' 0.01 '*' 0.05 '.' 0.1 ' ' 1\n",
       "\n",
       "Residual standard error: 59.27 on 15 degrees of freedom\n",
       "Multiple R-squared:  0.5775,\tAdjusted R-squared:  0.4366 \n",
       "F-statistic:   4.1 on 5 and 15 DF,  p-value: 0.01513\n"
      ]
     },
     "metadata": {},
     "output_type": "display_data"
    }
   ],
   "source": [
    "# Model for SalesPerCapita\n",
    "model <- lm(SalesPerCapita ~ GDPperHead + Country, data=EuropeanSales)\n",
    "summary(model)\n",
    "\n",
    "model <- lm(SalesPerCapita ~ GDPperHead + Country + EducationSpending, data=EuropeanSales)\n",
    "summary(model)\n",
    "\n",
    "model <- lm(SalesPerCapita ~ GDPperHead + Country + EducationSpending + UnemploymentRate, data=EuropeanSales)\n",
    "summary(model)\n",
    "\n",
    "model <- lm(SalesPerCapita ~ GDPperHead + Country + EducationSpending + UnemploymentRate, data=EuropeanSales)\n",
    "summary(model)\n",
    "\n",
    "model <- lm(SalesPerCapita ~ GDPperHead + Country + EducationSpending + UnemploymentRate + Population, data=EuropeanSales)\n",
    "summary(model)"
   ]
  },
  {
   "cell_type": "code",
   "execution_count": 12,
   "metadata": {},
   "outputs": [
    {
     "data": {
      "text/plain": [
       "\n",
       "Call:\n",
       "lm(formula = SalesPerCapita ~ Population + GDPperHead, data = EuropeanSales)\n",
       "\n",
       "Residuals:\n",
       "   Min     1Q Median     3Q    Max \n",
       "-59.59 -32.73 -19.41  19.71 206.27 \n",
       "\n",
       "Coefficients:\n",
       "            Estimate Std. Error t value Pr(>|t|)   \n",
       "(Intercept)  32.0289    35.2854   0.908  0.37602   \n",
       "Population   -0.5685     0.5253  -1.082  0.29344   \n",
       "GDPperHead    2.6640     0.7358   3.620  0.00196 **\n",
       "---\n",
       "Signif. codes:  0 '***' 0.001 '**' 0.01 '*' 0.05 '.' 0.1 ' ' 1\n",
       "\n",
       "Residual standard error: 60.44 on 18 degrees of freedom\n",
       "Multiple R-squared:  0.4729,\tAdjusted R-squared:  0.4143 \n",
       "F-statistic: 8.074 on 2 and 18 DF,  p-value: 0.003142\n"
      ]
     },
     "metadata": {},
     "output_type": "display_data"
    },
    {
     "data": {
      "text/plain": [
       "\n",
       "Call:\n",
       "lm(formula = SalesPerCapita ~ GDPperHead + Country + Population, \n",
       "    data = EuropeanSales)\n",
       "\n",
       "Residuals:\n",
       "   Min     1Q Median     3Q    Max \n",
       "-61.31 -33.72 -16.98  18.71 208.83 \n",
       "\n",
       "Coefficients:\n",
       "            Estimate Std. Error t value Pr(>|t|)   \n",
       "(Intercept)  24.4469    42.2738   0.578  0.57065   \n",
       "GDPperHead    2.6721     0.7549   3.540  0.00252 **\n",
       "Country       0.8281     2.3880   0.347  0.73301   \n",
       "Population   -0.6369     0.5736  -1.110  0.28232   \n",
       "---\n",
       "Signif. codes:  0 '***' 0.001 '**' 0.01 '*' 0.05 '.' 0.1 ' ' 1\n",
       "\n",
       "Residual standard error: 61.97 on 17 degrees of freedom\n",
       "Multiple R-squared:  0.4766,\tAdjusted R-squared:  0.3842 \n",
       "F-statistic:  5.16 on 3 and 17 DF,  p-value: 0.01019\n"
      ]
     },
     "metadata": {},
     "output_type": "display_data"
    },
    {
     "data": {
      "text/plain": [
       "\n",
       "Call:\n",
       "lm(formula = SalesPerCapita ~ GDPperHead + Country + UnemploymentRate, \n",
       "    data = EuropeanSales)\n",
       "\n",
       "Residuals:\n",
       "    Min      1Q  Median      3Q     Max \n",
       "-59.521 -32.662 -11.868   7.601 204.870 \n",
       "\n",
       "Coefficients:\n",
       "                 Estimate Std. Error t value Pr(>|t|)   \n",
       "(Intercept)      -35.7498    75.2380  -0.475  0.64072   \n",
       "GDPperHead         3.1505     0.8836   3.566  0.00238 **\n",
       "Country            0.1463     2.3018   0.064  0.95006   \n",
       "UnemploymentRate   4.0726     5.2677   0.773  0.45006   \n",
       "---\n",
       "Signif. codes:  0 '***' 0.001 '**' 0.01 '*' 0.05 '.' 0.1 ' ' 1\n",
       "\n",
       "Residual standard error: 63.08 on 17 degrees of freedom\n",
       "Multiple R-squared:  0.4577,\tAdjusted R-squared:  0.362 \n",
       "F-statistic: 4.782 on 3 and 17 DF,  p-value: 0.01355\n"
      ]
     },
     "metadata": {},
     "output_type": "display_data"
    },
    {
     "data": {
      "text/plain": [
       "\n",
       "Call:\n",
       "lm(formula = SalesPerCapita ~ GDPperHead + Country + EducationSpending + \n",
       "    UnemploymentRate, data = EuropeanSales)\n",
       "\n",
       "Residuals:\n",
       "   Min     1Q Median     3Q    Max \n",
       "-57.70 -24.69 -11.61  10.46 193.83 \n",
       "\n",
       "Coefficients:\n",
       "                   Estimate Std. Error t value Pr(>|t|)  \n",
       "(Intercept)       -124.9372    89.6851  -1.393   0.1827  \n",
       "GDPperHead           2.3166     0.9811   2.361   0.0312 *\n",
       "Country              0.5448     2.2058   0.247   0.8080  \n",
       "EducationSpending   21.7954    13.1765   1.654   0.1176  \n",
       "UnemploymentRate     4.4078     5.0218   0.878   0.3931  \n",
       "---\n",
       "Signif. codes:  0 '***' 0.001 '**' 0.01 '*' 0.05 '.' 0.1 ' ' 1\n",
       "\n",
       "Residual standard error: 60.08 on 16 degrees of freedom\n",
       "Multiple R-squared:  0.5369,\tAdjusted R-squared:  0.4211 \n",
       "F-statistic: 4.637 on 4 and 16 DF,  p-value: 0.0112\n"
      ]
     },
     "metadata": {},
     "output_type": "display_data"
    },
    {
     "data": {
      "text/plain": [
       "\n",
       "Call:\n",
       "lm(formula = SalesPerCapita ~ GDPperHead + Country + EducationSpending + \n",
       "    UnemploymentRate + Population, data = EuropeanSales)\n",
       "\n",
       "Residuals:\n",
       "   Min     1Q Median     3Q    Max \n",
       "-53.46 -28.55 -20.20  15.33 181.34 \n",
       "\n",
       "Coefficients:\n",
       "                   Estimate Std. Error t value Pr(>|t|)  \n",
       "(Intercept)       -123.8727    88.4789  -1.400   0.1818  \n",
       "GDPperHead           2.4933     0.9790   2.547   0.0223 *\n",
       "Country              1.6340     2.3576   0.693   0.4989  \n",
       "EducationSpending   18.3431    13.3130   1.378   0.1885  \n",
       "UnemploymentRate     6.5670     5.2705   1.246   0.2319  \n",
       "Population          -0.7177     0.5979  -1.200   0.2486  \n",
       "---\n",
       "Signif. codes:  0 '***' 0.001 '**' 0.01 '*' 0.05 '.' 0.1 ' ' 1\n",
       "\n",
       "Residual standard error: 59.27 on 15 degrees of freedom\n",
       "Multiple R-squared:  0.5775,\tAdjusted R-squared:  0.4366 \n",
       "F-statistic:   4.1 on 5 and 15 DF,  p-value: 0.01513\n"
      ]
     },
     "metadata": {},
     "output_type": "display_data"
    }
   ],
   "source": [
    "\n",
    "# Model for  ComputerSales\n",
    "model <- lm(SalesPerCapita ~ Population + GDPperHead, data=EuropeanSales)\n",
    "summary(model)\n",
    "\n",
    "model <- lm(SalesPerCapita ~ GDPperHead + Country + Population, data=EuropeanSales)\n",
    "summary(model)\n",
    "\n",
    "model <- lm(SalesPerCapita ~ GDPperHead + Country  + UnemploymentRate, data=EuropeanSales)\n",
    "summary(model)\n",
    "\n",
    "model <- lm(SalesPerCapita ~ GDPperHead + Country + EducationSpending + UnemploymentRate, data=EuropeanSales)\n",
    "summary(model)\n",
    "\n",
    "model <- lm(SalesPerCapita ~ GDPperHead + Country + EducationSpending + UnemploymentRate + Population, data=EuropeanSales)\n",
    "summary(model)"
   ]
  },
  {
   "cell_type": "code",
   "execution_count": 13,
   "metadata": {},
   "outputs": [
    {
     "data": {
      "text/html": [
       "<dl>\n",
       "\t<dt>$names</dt>\n",
       "\t\t<dd><ol class=list-inline>\n",
       "\t<li>'coefficients'</li>\n",
       "\t<li>'residuals'</li>\n",
       "\t<li>'effects'</li>\n",
       "\t<li>'rank'</li>\n",
       "\t<li>'fitted.values'</li>\n",
       "\t<li>'assign'</li>\n",
       "\t<li>'qr'</li>\n",
       "\t<li>'df.residual'</li>\n",
       "\t<li>'xlevels'</li>\n",
       "\t<li>'call'</li>\n",
       "\t<li>'terms'</li>\n",
       "\t<li>'model'</li>\n",
       "</ol>\n",
       "</dd>\n",
       "\t<dt>$class</dt>\n",
       "\t\t<dd>'lm'</dd>\n",
       "</dl>\n"
      ],
      "text/latex": [
       "\\begin{description}\n",
       "\\item[\\$names] \\begin{enumerate*}\n",
       "\\item 'coefficients'\n",
       "\\item 'residuals'\n",
       "\\item 'effects'\n",
       "\\item 'rank'\n",
       "\\item 'fitted.values'\n",
       "\\item 'assign'\n",
       "\\item 'qr'\n",
       "\\item 'df.residual'\n",
       "\\item 'xlevels'\n",
       "\\item 'call'\n",
       "\\item 'terms'\n",
       "\\item 'model'\n",
       "\\end{enumerate*}\n",
       "\n",
       "\\item[\\$class] 'lm'\n",
       "\\end{description}\n"
      ],
      "text/markdown": [
       "$names\n",
       ":   1. 'coefficients'\n",
       "2. 'residuals'\n",
       "3. 'effects'\n",
       "4. 'rank'\n",
       "5. 'fitted.values'\n",
       "6. 'assign'\n",
       "7. 'qr'\n",
       "8. 'df.residual'\n",
       "9. 'xlevels'\n",
       "10. 'call'\n",
       "11. 'terms'\n",
       "12. 'model'\n",
       "\n",
       "\n",
       "\n",
       "$class\n",
       ":   'lm'\n",
       "\n",
       "\n"
      ],
      "text/plain": [
       "$names\n",
       " [1] \"coefficients\"  \"residuals\"     \"effects\"       \"rank\"         \n",
       " [5] \"fitted.values\" \"assign\"        \"qr\"            \"df.residual\"  \n",
       " [9] \"xlevels\"       \"call\"          \"terms\"         \"model\"        \n",
       "\n",
       "$class\n",
       "[1] \"lm\"\n"
      ]
     },
     "metadata": {},
     "output_type": "display_data"
    },
    {
     "data": {
      "text/html": [
       "<dl class=dl-horizontal>\n",
       "\t<dt>(Intercept)</dt>\n",
       "\t\t<dd>-123.872653389163</dd>\n",
       "\t<dt>GDPperHead</dt>\n",
       "\t\t<dd>2.4932672316037</dd>\n",
       "\t<dt>Country</dt>\n",
       "\t\t<dd>1.63401628294724</dd>\n",
       "\t<dt>EducationSpending</dt>\n",
       "\t\t<dd>18.3430856058124</dd>\n",
       "\t<dt>UnemploymentRate</dt>\n",
       "\t\t<dd>6.56695269702791</dd>\n",
       "\t<dt>Population</dt>\n",
       "\t\t<dd>-0.71774011019943</dd>\n",
       "</dl>\n"
      ],
      "text/latex": [
       "\\begin{description*}\n",
       "\\item[(Intercept)] -123.872653389163\n",
       "\\item[GDPperHead] 2.4932672316037\n",
       "\\item[Country] 1.63401628294724\n",
       "\\item[EducationSpending] 18.3430856058124\n",
       "\\item[UnemploymentRate] 6.56695269702791\n",
       "\\item[Population] -0.71774011019943\n",
       "\\end{description*}\n"
      ],
      "text/markdown": [
       "(Intercept)\n",
       ":   -123.872653389163GDPperHead\n",
       ":   2.4932672316037Country\n",
       ":   1.63401628294724EducationSpending\n",
       ":   18.3430856058124UnemploymentRate\n",
       ":   6.56695269702791Population\n",
       ":   -0.71774011019943\n",
       "\n"
      ],
      "text/plain": [
       "      (Intercept)        GDPperHead           Country EducationSpending \n",
       "     -123.8726534         2.4932672         1.6340163        18.3430856 \n",
       " UnemploymentRate        Population \n",
       "        6.5669527        -0.7177401 "
      ]
     },
     "metadata": {},
     "output_type": "display_data"
    }
   ],
   "source": [
    "#Model attributes and coefficients  \n",
    "attributes(model)\n",
    "model$coefficients"
   ]
  },
  {
   "cell_type": "code",
   "execution_count": null,
   "metadata": {},
   "outputs": [],
   "source": []
  }
 ],
 "metadata": {
  "kernelspec": {
   "display_name": "R",
   "language": "R",
   "name": "ir"
  },
  "language_info": {
   "codemirror_mode": "r",
   "file_extension": ".r",
   "mimetype": "text/x-r-source",
   "name": "R",
   "pygments_lexer": "r",
   "version": "3.5.1"
  }
 },
 "nbformat": 4,
 "nbformat_minor": 2
}
