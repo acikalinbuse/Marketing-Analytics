{
 "cells": [
  {
   "cell_type": "code",
   "execution_count": 27,
   "metadata": {},
   "outputs": [
    {
     "data": {
      "text/html": [
       "<table>\n",
       "<thead><tr><th scope=col>Country</th><th scope=col>Population</th><th scope=col>GDPperHead</th><th scope=col>UnemploymentRate</th><th scope=col>EducationSpending</th><th scope=col>SalesPerCapita</th><th scope=col>ComputerSales</th></tr></thead>\n",
       "<tbody>\n",
       "\t<tr><td>Austria    </td><td> 8.4       </td><td>49.60      </td><td> 4.2       </td><td>5.8        </td><td>112        </td><td> 941       </td></tr>\n",
       "\t<tr><td>Belgium    </td><td>10.5       </td><td>47.09      </td><td> 8.1       </td><td>5.9        </td><td>160        </td><td>1682       </td></tr>\n",
       "\t<tr><td>Bulgaria   </td><td> 7.6       </td><td> 6.55      </td><td>13.5       </td><td>3.5        </td><td> 20        </td><td> 154       </td></tr>\n",
       "\t<tr><td>Czech Rep. </td><td>10.2       </td><td>20.67      </td><td> 6.6       </td><td>4.4        </td><td>101        </td><td>1029       </td></tr>\n",
       "\t<tr><td>Denmark    </td><td> 5.5       </td><td>62.12      </td><td> 5.2       </td><td>8.4        </td><td>170        </td><td> 935       </td></tr>\n",
       "\t<tr><td>Finland    </td><td> 5.3       </td><td>51.32      </td><td> 9.9       </td><td>6.3        </td><td>372        </td><td>1971       </td></tr>\n",
       "\t<tr><td>France     </td><td>61.9       </td><td>44.51      </td><td>10.0       </td><td>5.7        </td><td> 96        </td><td>5929       </td></tr>\n",
       "\t<tr><td>Germany    </td><td>82.5       </td><td>44.45      </td><td> 9.1       </td><td>4.6        </td><td> 83        </td><td>6824       </td></tr>\n",
       "\t<tr><td>Greece     </td><td>11.2       </td><td>31.67      </td><td> 9.9       </td><td>3.9        </td><td> 73        </td><td> 813       </td></tr>\n",
       "\t<tr><td>Hungary    </td><td>10.0       </td><td>15.41      </td><td> 7.3       </td><td>5.1        </td><td> 45        </td><td> 449       </td></tr>\n",
       "\t<tr><td>Ireland    </td><td> 4.4       </td><td>60.46      </td><td> 6.3       </td><td>4.3        </td><td>131        </td><td> 577       </td></tr>\n",
       "\t<tr><td>Italy      </td><td>58.9       </td><td>38.49      </td><td> 9.3       </td><td>5.0        </td><td> 66        </td><td>3858       </td></tr>\n",
       "\t<tr><td>Netherlands</td><td>16.5       </td><td>52.96      </td><td> 4.4       </td><td>5.0        </td><td>131        </td><td>2169       </td></tr>\n",
       "\t<tr><td>Poland     </td><td>38.0       </td><td>13.85      </td><td>14.4       </td><td>5.6        </td><td> 75        </td><td>2847       </td></tr>\n",
       "\t<tr><td>Portugal   </td><td>10.7       </td><td>22.92      </td><td> 6.3       </td><td>5.9        </td><td> 68        </td><td> 729       </td></tr>\n",
       "\t<tr><td>Romania    </td><td>21.3       </td><td> 9.30      </td><td> 7.0       </td><td>3.3        </td><td> 32        </td><td> 687       </td></tr>\n",
       "\t<tr><td>Spain      </td><td>44.8       </td><td>35.22      </td><td>14.2       </td><td>4.4        </td><td>106        </td><td>4746       </td></tr>\n",
       "\t<tr><td>Switzerland</td><td> 7.5       </td><td>64.43      </td><td> 3.6       </td><td>5.6        </td><td>151        </td><td>1130       </td></tr>\n",
       "\t<tr><td>Sweden     </td><td> 9.2       </td><td>51.95      </td><td> 6.3       </td><td>7.6        </td><td>230        </td><td>2113       </td></tr>\n",
       "\t<tr><td>Turkey     </td><td>75.8       </td><td> 9.94      </td><td> 8.6       </td><td>3.7        </td><td> 38        </td><td>2879       </td></tr>\n",
       "\t<tr><td>UK         </td><td>61.0       </td><td>43.54      </td><td> 5.9       </td><td>4.8        </td><td>162        </td><td>9887       </td></tr>\n",
       "</tbody>\n",
       "</table>\n"
      ],
      "text/latex": [
       "\\begin{tabular}{r|lllllll}\n",
       " Country & Population & GDPperHead & UnemploymentRate & EducationSpending & SalesPerCapita & ComputerSales\\\\\n",
       "\\hline\n",
       "\t Austria     &  8.4        & 49.60       &  4.2        & 5.8         & 112         &  941       \\\\\n",
       "\t Belgium     & 10.5        & 47.09       &  8.1        & 5.9         & 160         & 1682       \\\\\n",
       "\t Bulgaria    &  7.6        &  6.55       & 13.5        & 3.5         &  20         &  154       \\\\\n",
       "\t Czech Rep.  & 10.2        & 20.67       &  6.6        & 4.4         & 101         & 1029       \\\\\n",
       "\t Denmark     &  5.5        & 62.12       &  5.2        & 8.4         & 170         &  935       \\\\\n",
       "\t Finland     &  5.3        & 51.32       &  9.9        & 6.3         & 372         & 1971       \\\\\n",
       "\t France      & 61.9        & 44.51       & 10.0        & 5.7         &  96         & 5929       \\\\\n",
       "\t Germany     & 82.5        & 44.45       &  9.1        & 4.6         &  83         & 6824       \\\\\n",
       "\t Greece      & 11.2        & 31.67       &  9.9        & 3.9         &  73         &  813       \\\\\n",
       "\t Hungary     & 10.0        & 15.41       &  7.3        & 5.1         &  45         &  449       \\\\\n",
       "\t Ireland     &  4.4        & 60.46       &  6.3        & 4.3         & 131         &  577       \\\\\n",
       "\t Italy       & 58.9        & 38.49       &  9.3        & 5.0         &  66         & 3858       \\\\\n",
       "\t Netherlands & 16.5        & 52.96       &  4.4        & 5.0         & 131         & 2169       \\\\\n",
       "\t Poland      & 38.0        & 13.85       & 14.4        & 5.6         &  75         & 2847       \\\\\n",
       "\t Portugal    & 10.7        & 22.92       &  6.3        & 5.9         &  68         &  729       \\\\\n",
       "\t Romania     & 21.3        &  9.30       &  7.0        & 3.3         &  32         &  687       \\\\\n",
       "\t Spain       & 44.8        & 35.22       & 14.2        & 4.4         & 106         & 4746       \\\\\n",
       "\t Switzerland &  7.5        & 64.43       &  3.6        & 5.6         & 151         & 1130       \\\\\n",
       "\t Sweden      &  9.2        & 51.95       &  6.3        & 7.6         & 230         & 2113       \\\\\n",
       "\t Turkey      & 75.8        &  9.94       &  8.6        & 3.7         &  38         & 2879       \\\\\n",
       "\t UK          & 61.0        & 43.54       &  5.9        & 4.8         & 162         & 9887       \\\\\n",
       "\\end{tabular}\n"
      ],
      "text/markdown": [
       "\n",
       "| Country | Population | GDPperHead | UnemploymentRate | EducationSpending | SalesPerCapita | ComputerSales |\n",
       "|---|---|---|---|---|---|---|\n",
       "| Austria     |  8.4        | 49.60       |  4.2        | 5.8         | 112         |  941        |\n",
       "| Belgium     | 10.5        | 47.09       |  8.1        | 5.9         | 160         | 1682        |\n",
       "| Bulgaria    |  7.6        |  6.55       | 13.5        | 3.5         |  20         |  154        |\n",
       "| Czech Rep.  | 10.2        | 20.67       |  6.6        | 4.4         | 101         | 1029        |\n",
       "| Denmark     |  5.5        | 62.12       |  5.2        | 8.4         | 170         |  935        |\n",
       "| Finland     |  5.3        | 51.32       |  9.9        | 6.3         | 372         | 1971        |\n",
       "| France      | 61.9        | 44.51       | 10.0        | 5.7         |  96         | 5929        |\n",
       "| Germany     | 82.5        | 44.45       |  9.1        | 4.6         |  83         | 6824        |\n",
       "| Greece      | 11.2        | 31.67       |  9.9        | 3.9         |  73         |  813        |\n",
       "| Hungary     | 10.0        | 15.41       |  7.3        | 5.1         |  45         |  449        |\n",
       "| Ireland     |  4.4        | 60.46       |  6.3        | 4.3         | 131         |  577        |\n",
       "| Italy       | 58.9        | 38.49       |  9.3        | 5.0         |  66         | 3858        |\n",
       "| Netherlands | 16.5        | 52.96       |  4.4        | 5.0         | 131         | 2169        |\n",
       "| Poland      | 38.0        | 13.85       | 14.4        | 5.6         |  75         | 2847        |\n",
       "| Portugal    | 10.7        | 22.92       |  6.3        | 5.9         |  68         |  729        |\n",
       "| Romania     | 21.3        |  9.30       |  7.0        | 3.3         |  32         |  687        |\n",
       "| Spain       | 44.8        | 35.22       | 14.2        | 4.4         | 106         | 4746        |\n",
       "| Switzerland |  7.5        | 64.43       |  3.6        | 5.6         | 151         | 1130        |\n",
       "| Sweden      |  9.2        | 51.95       |  6.3        | 7.6         | 230         | 2113        |\n",
       "| Turkey      | 75.8        |  9.94       |  8.6        | 3.7         |  38         | 2879        |\n",
       "| UK          | 61.0        | 43.54       |  5.9        | 4.8         | 162         | 9887        |\n",
       "\n"
      ],
      "text/plain": [
       "   Country     Population GDPperHead UnemploymentRate EducationSpending\n",
       "1  Austria      8.4       49.60       4.2             5.8              \n",
       "2  Belgium     10.5       47.09       8.1             5.9              \n",
       "3  Bulgaria     7.6        6.55      13.5             3.5              \n",
       "4  Czech Rep.  10.2       20.67       6.6             4.4              \n",
       "5  Denmark      5.5       62.12       5.2             8.4              \n",
       "6  Finland      5.3       51.32       9.9             6.3              \n",
       "7  France      61.9       44.51      10.0             5.7              \n",
       "8  Germany     82.5       44.45       9.1             4.6              \n",
       "9  Greece      11.2       31.67       9.9             3.9              \n",
       "10 Hungary     10.0       15.41       7.3             5.1              \n",
       "11 Ireland      4.4       60.46       6.3             4.3              \n",
       "12 Italy       58.9       38.49       9.3             5.0              \n",
       "13 Netherlands 16.5       52.96       4.4             5.0              \n",
       "14 Poland      38.0       13.85      14.4             5.6              \n",
       "15 Portugal    10.7       22.92       6.3             5.9              \n",
       "16 Romania     21.3        9.30       7.0             3.3              \n",
       "17 Spain       44.8       35.22      14.2             4.4              \n",
       "18 Switzerland  7.5       64.43       3.6             5.6              \n",
       "19 Sweden       9.2       51.95       6.3             7.6              \n",
       "20 Turkey      75.8        9.94       8.6             3.7              \n",
       "21 UK          61.0       43.54       5.9             4.8              \n",
       "   SalesPerCapita ComputerSales\n",
       "1  112             941         \n",
       "2  160            1682         \n",
       "3   20             154         \n",
       "4  101            1029         \n",
       "5  170             935         \n",
       "6  372            1971         \n",
       "7   96            5929         \n",
       "8   83            6824         \n",
       "9   73             813         \n",
       "10  45             449         \n",
       "11 131             577         \n",
       "12  66            3858         \n",
       "13 131            2169         \n",
       "14  75            2847         \n",
       "15  68             729         \n",
       "16  32             687         \n",
       "17 106            4746         \n",
       "18 151            1130         \n",
       "19 230            2113         \n",
       "20  38            2879         \n",
       "21 162            9887         "
      ]
     },
     "metadata": {},
     "output_type": "display_data"
    }
   ],
   "source": [
    "EuropeanSales= read.csv(\"C:\\\\Users\\\\busea\\\\Desktop\\\\EuropeanSales.csv\", header=TRUE, sep=\",\")\n",
    "EuropeanSales"
   ]
  },
  {
   "cell_type": "code",
   "execution_count": 28,
   "metadata": {},
   "outputs": [
    {
     "data": {
      "text/html": [
       "<dl>\n",
       "\t<dt>$names</dt>\n",
       "\t\t<dd><ol class=list-inline>\n",
       "\t<li>'Country'</li>\n",
       "\t<li>'Population'</li>\n",
       "\t<li>'GDPperHead'</li>\n",
       "\t<li>'UnemploymentRate'</li>\n",
       "\t<li>'EducationSpending'</li>\n",
       "\t<li>'SalesPerCapita'</li>\n",
       "\t<li>'ComputerSales'</li>\n",
       "</ol>\n",
       "</dd>\n",
       "\t<dt>$class</dt>\n",
       "\t\t<dd>'data.frame'</dd>\n",
       "\t<dt>$row.names</dt>\n",
       "\t\t<dd><ol class=list-inline>\n",
       "\t<li>1</li>\n",
       "\t<li>2</li>\n",
       "\t<li>3</li>\n",
       "\t<li>4</li>\n",
       "\t<li>5</li>\n",
       "\t<li>6</li>\n",
       "\t<li>7</li>\n",
       "\t<li>8</li>\n",
       "\t<li>9</li>\n",
       "\t<li>10</li>\n",
       "\t<li>11</li>\n",
       "\t<li>12</li>\n",
       "\t<li>13</li>\n",
       "\t<li>14</li>\n",
       "\t<li>15</li>\n",
       "\t<li>16</li>\n",
       "\t<li>17</li>\n",
       "\t<li>18</li>\n",
       "\t<li>19</li>\n",
       "\t<li>20</li>\n",
       "\t<li>21</li>\n",
       "</ol>\n",
       "</dd>\n",
       "</dl>\n"
      ],
      "text/latex": [
       "\\begin{description}\n",
       "\\item[\\$names] \\begin{enumerate*}\n",
       "\\item 'Country'\n",
       "\\item 'Population'\n",
       "\\item 'GDPperHead'\n",
       "\\item 'UnemploymentRate'\n",
       "\\item 'EducationSpending'\n",
       "\\item 'SalesPerCapita'\n",
       "\\item 'ComputerSales'\n",
       "\\end{enumerate*}\n",
       "\n",
       "\\item[\\$class] 'data.frame'\n",
       "\\item[\\$row.names] \\begin{enumerate*}\n",
       "\\item 1\n",
       "\\item 2\n",
       "\\item 3\n",
       "\\item 4\n",
       "\\item 5\n",
       "\\item 6\n",
       "\\item 7\n",
       "\\item 8\n",
       "\\item 9\n",
       "\\item 10\n",
       "\\item 11\n",
       "\\item 12\n",
       "\\item 13\n",
       "\\item 14\n",
       "\\item 15\n",
       "\\item 16\n",
       "\\item 17\n",
       "\\item 18\n",
       "\\item 19\n",
       "\\item 20\n",
       "\\item 21\n",
       "\\end{enumerate*}\n",
       "\n",
       "\\end{description}\n"
      ],
      "text/markdown": [
       "$names\n",
       ":   1. 'Country'\n",
       "2. 'Population'\n",
       "3. 'GDPperHead'\n",
       "4. 'UnemploymentRate'\n",
       "5. 'EducationSpending'\n",
       "6. 'SalesPerCapita'\n",
       "7. 'ComputerSales'\n",
       "\n",
       "\n",
       "\n",
       "$class\n",
       ":   'data.frame'\n",
       "$row.names\n",
       ":   1. 1\n",
       "2. 2\n",
       "3. 3\n",
       "4. 4\n",
       "5. 5\n",
       "6. 6\n",
       "7. 7\n",
       "8. 8\n",
       "9. 9\n",
       "10. 10\n",
       "11. 11\n",
       "12. 12\n",
       "13. 13\n",
       "14. 14\n",
       "15. 15\n",
       "16. 16\n",
       "17. 17\n",
       "18. 18\n",
       "19. 19\n",
       "20. 20\n",
       "21. 21\n",
       "\n",
       "\n",
       "\n",
       "\n",
       "\n"
      ],
      "text/plain": [
       "$names\n",
       "[1] \"Country\"           \"Population\"        \"GDPperHead\"       \n",
       "[4] \"UnemploymentRate\"  \"EducationSpending\" \"SalesPerCapita\"   \n",
       "[7] \"ComputerSales\"    \n",
       "\n",
       "$class\n",
       "[1] \"data.frame\"\n",
       "\n",
       "$row.names\n",
       " [1]  1  2  3  4  5  6  7  8  9 10 11 12 13 14 15 16 17 18 19 20 21\n"
      ]
     },
     "metadata": {},
     "output_type": "display_data"
    },
    {
     "data": {
      "text/plain": [
       "       Country     Population      GDPperHead    UnemploymentRate\n",
       " Austria   : 1   Min.   : 4.40   Min.   : 6.55   Min.   : 3.6    \n",
       " Belgium   : 1   1st Qu.: 8.40   1st Qu.:20.67   1st Qu.: 6.3    \n",
       " Bulgaria  : 1   Median :10.70   Median :43.54   Median : 7.3    \n",
       " Czech Rep.: 1   Mean   :26.72   Mean   :36.97   Mean   : 8.1    \n",
       " Denmark   : 1   3rd Qu.:44.80   3rd Qu.:51.32   3rd Qu.: 9.9    \n",
       " Finland   : 1   Max.   :82.50   Max.   :64.43   Max.   :14.4    \n",
       " (Other)   :15                                                   \n",
       " EducationSpending SalesPerCapita  ComputerSales \n",
       " Min.   :3.300     Min.   : 20.0   Min.   : 154  \n",
       " 1st Qu.:4.400     1st Qu.: 68.0   1st Qu.: 813  \n",
       " Median :5.000     Median :101.0   Median :1682  \n",
       " Mean   :5.181     Mean   :115.3   Mean   :2493  \n",
       " 3rd Qu.:5.800     3rd Qu.:151.0   3rd Qu.:2879  \n",
       " Max.   :8.400     Max.   :372.0   Max.   :9887  \n",
       "                                                 "
      ]
     },
     "metadata": {},
     "output_type": "display_data"
    }
   ],
   "source": [
    "attributes(EuropeanSales)\n",
    "summary(EuropeanSales)"
   ]
  },
  {
   "cell_type": "code",
   "execution_count": 29,
   "metadata": {},
   "outputs": [
    {
     "data": {
      "image/png": "[encoded data removed]",
      "text/plain": [
       "plot without title"
      ]
     },
     "metadata": {},
     "output_type": "display_data"
    }
   ],
   "source": [
    "plot(EuropeanSales, col = \"dark red\")"
   ]
  },
  {
   "cell_type": "code",
   "execution_count": 31,
   "metadata": {},
   "outputs": [
    {
     "data": {
      "image/png": "[encoded data removed]",
      "text/plain": [
       "Plot with title \"SalesPerCapita\""
      ]
     },
     "metadata": {},
     "output_type": "display_data"
    },
    {
     "data": {
      "image/png": "[encoded data removed]",
      "text/plain": [
       "Plot with title \"ComputerSales\""
      ]
     },
     "metadata": {},
     "output_type": "display_data"
    }
   ],
   "source": [
    "boxplot(EuropeanSales$SalesPerCapita,col=\"dark red\", main = 'SalesPerCapita')\n",
    "boxplot(EuropeanSales$ComputerSales,col=\"dark red\", main = 'ComputerSales')"
   ]
  },
  {
   "cell_type": "code",
   "execution_count": 71,
   "metadata": {},
   "outputs": [],
   "source": [
    "#convert country to dummy variables\n",
    "EuropeanSales$Country=factor(EuropeanSales$Country, \n",
    "                                 levels = c(\"Austria\", \"Belgium\", \"Bulgaria\", \"Czech Rep.\",\"Denmark\", \"Finland\",\"France\",\"Germany\",\n",
    "                                            \"Greece\",\"Hungary\",\"Ireland\",\"Italy\",\"Netherlands\",\"Poland\",\"Portugal\",\"Romania\",\"Spain\",\n",
    "                                            \"Switzerland\",\"Sweden\",\"Turkey\",\"UK\"), labels = c(\"1\",2,3,4,5,6,7,8,9,10,11,12,13,14,15,16,17,18,19,20,21) )\n",
    "\n",
    "EuropeanSales$Country<-as.integer(EuropeanSales$Country)"
   ]
  },
  {
   "cell_type": "code",
   "execution_count": 72,
   "metadata": {},
   "outputs": [
    {
     "data": {
      "text/html": [
       "<table>\n",
       "<thead><tr><th></th><th scope=col>Country</th><th scope=col>Population</th><th scope=col>GDPperHead</th><th scope=col>UnemploymentRate</th><th scope=col>EducationSpending</th><th scope=col>SalesPerCapita</th><th scope=col>ComputerSales</th></tr></thead>\n",
       "<tbody>\n",
       "\t<tr><th scope=row>Country</th><td> 1         </td><td>        NA </td><td>        NA </td><td>        NA </td><td>         NA</td><td>         NA</td><td>         NA</td></tr>\n",
       "\t<tr><th scope=row>Population</th><td>NA         </td><td> 1.0000000 </td><td>-0.1752359 </td><td> 0.3210351 </td><td>-0.29288051</td><td>-0.29838340</td><td> 0.80797112</td></tr>\n",
       "\t<tr><th scope=row>GDPperHead</th><td>NA         </td><td>-0.1752359 </td><td> 1.0000000 </td><td>-0.5024185 </td><td> 0.58911054</td><td> 0.66225363</td><td> 0.15155568</td></tr>\n",
       "\t<tr><th scope=row>UnemploymentRate</th><td>NA         </td><td> 0.3210351 </td><td>-0.5024185 </td><td> 1.0000000 </td><td>-0.31430933</td><td>-0.21360529</td><td> 0.17184911</td></tr>\n",
       "\t<tr><th scope=row>EducationSpending</th><td>NA         </td><td>-0.2928805 </td><td> 0.5891105 </td><td>-0.3143093 </td><td> 1.00000000</td><td> 0.61217963</td><td>-0.05269015</td></tr>\n",
       "\t<tr><th scope=row>SalesPerCapita</th><td>NA         </td><td>-0.2983834 </td><td> 0.6622536 </td><td>-0.2136053 </td><td> 0.61217963</td><td> 1.00000000</td><td> 0.08141779</td></tr>\n",
       "\t<tr><th scope=row>ComputerSales</th><td>NA         </td><td> 0.8079711 </td><td> 0.1515557 </td><td> 0.1718491 </td><td>-0.05269015</td><td> 0.08141779</td><td> 1.00000000</td></tr>\n",
       "</tbody>\n",
       "</table>\n"
      ],
      "text/latex": [
       "\\begin{tabular}{r|lllllll}\n",
       "  & Country & Population & GDPperHead & UnemploymentRate & EducationSpending & SalesPerCapita & ComputerSales\\\\\n",
       "\\hline\n",
       "\tCountry &  1          &         NA  &         NA  &         NA  &          NA &          NA &          NA\\\\\n",
       "\tPopulation & NA          &  1.0000000  & -0.1752359  &  0.3210351  & -0.29288051 & -0.29838340 &  0.80797112\\\\\n",
       "\tGDPperHead & NA          & -0.1752359  &  1.0000000  & -0.5024185  &  0.58911054 &  0.66225363 &  0.15155568\\\\\n",
       "\tUnemploymentRate & NA          &  0.3210351  & -0.5024185  &  1.0000000  & -0.31430933 & -0.21360529 &  0.17184911\\\\\n",
       "\tEducationSpending & NA          & -0.2928805  &  0.5891105  & -0.3143093  &  1.00000000 &  0.61217963 & -0.05269015\\\\\n",
       "\tSalesPerCapita & NA          & -0.2983834  &  0.6622536  & -0.2136053  &  0.61217963 &  1.00000000 &  0.08141779\\\\\n",
       "\tComputerSales & NA          &  0.8079711  &  0.1515557  &  0.1718491  & -0.05269015 &  0.08141779 &  1.00000000\\\\\n",
       "\\end{tabular}\n"
      ],
      "text/markdown": [
       "\n",
       "| <!--/--> | Country | Population | GDPperHead | UnemploymentRate | EducationSpending | SalesPerCapita | ComputerSales |\n",
       "|---|---|---|---|---|---|---|---|\n",
       "| Country |  1          |         NA  |         NA  |         NA  |          NA |          NA |          NA |\n",
       "| Population | NA          |  1.0000000  | -0.1752359  |  0.3210351  | -0.29288051 | -0.29838340 |  0.80797112 |\n",
       "| GDPperHead | NA          | -0.1752359  |  1.0000000  | -0.5024185  |  0.58911054 |  0.66225363 |  0.15155568 |\n",
       "| UnemploymentRate | NA          |  0.3210351  | -0.5024185  |  1.0000000  | -0.31430933 | -0.21360529 |  0.17184911 |\n",
       "| EducationSpending | NA          | -0.2928805  |  0.5891105  | -0.3143093  |  1.00000000 |  0.61217963 | -0.05269015 |\n",
       "| SalesPerCapita | NA          | -0.2983834  |  0.6622536  | -0.2136053  |  0.61217963 |  1.00000000 |  0.08141779 |\n",
       "| ComputerSales | NA          |  0.8079711  |  0.1515557  |  0.1718491  | -0.05269015 |  0.08141779 |  1.00000000 |\n",
       "\n"
      ],
      "text/plain": [
       "                  Country Population GDPperHead UnemploymentRate\n",
       "Country            1              NA         NA         NA      \n",
       "Population        NA       1.0000000 -0.1752359  0.3210351      \n",
       "GDPperHead        NA      -0.1752359  1.0000000 -0.5024185      \n",
       "UnemploymentRate  NA       0.3210351 -0.5024185  1.0000000      \n",
       "EducationSpending NA      -0.2928805  0.5891105 -0.3143093      \n",
       "SalesPerCapita    NA      -0.2983834  0.6622536 -0.2136053      \n",
       "ComputerSales     NA       0.8079711  0.1515557  0.1718491      \n",
       "                  EducationSpending SalesPerCapita ComputerSales\n",
       "Country                    NA                NA             NA  \n",
       "Population        -0.29288051       -0.29838340     0.80797112  \n",
       "GDPperHead         0.58911054        0.66225363     0.15155568  \n",
       "UnemploymentRate  -0.31430933       -0.21360529     0.17184911  \n",
       "EducationSpending  1.00000000        0.61217963    -0.05269015  \n",
       "SalesPerCapita     0.61217963        1.00000000     0.08141779  \n",
       "ComputerSales     -0.05269015        0.08141779     1.00000000  "
      ]
     },
     "metadata": {},
     "output_type": "display_data"
    },
    {
     "ename": "ERROR",
     "evalue": "Error in eigen(corr): infinite or missing values in 'x'\n",
     "output_type": "error",
     "traceback": [
      "Error in eigen(corr): infinite or missing values in 'x'\nTraceback:\n",
      "1. corrplot(cor_EuropeanSales, type = \"full\", order = \"AOE\", addCoef.col = \"black\")",
      "2. corrMatOrder(corr, order = order, hclust.method = hclust.method)",
      "3. reorder_using_aoe(corr)",
      "4. eigen(corr)",
      "5. stop(\"infinite or missing values in 'x'\")"
     ]
    }
   ],
   "source": [
    "library(corrplot)\n",
    "cor_EuropeanSales=cor(EuropeanSales[,])\n",
    "cor_EuropeanSales\n",
    "corrplot(cor_EuropeanSales, type = \"full\", order = \"AOE\", addCoef.col = \"black\" )\n"
   ]
  },
  {
   "cell_type": "code",
   "execution_count": 74,
   "metadata": {},
   "outputs": [
    {
     "data": {
      "text/plain": [
       "\n",
       "Call:\n",
       "lm(formula = SalesPerCapita ~ GDPperHead, data = EuropeanSales)\n",
       "\n",
       "Residuals:\n",
       "    Min      1Q  Median      3Q     Max \n",
       "-53.584 -38.731  -9.879  16.306 216.447 \n",
       "\n",
       "Coefficients:\n",
       "            Estimate Std. Error t value Pr(>|t|)   \n",
       "(Intercept)  11.6761    29.9902   0.389  0.70136   \n",
       "GDPperHead    2.8035     0.7277   3.853  0.00107 **\n",
       "---\n",
       "Signif. codes:  0 '***' 0.001 '**' 0.01 '*' 0.05 '.' 0.1 ' ' 1\n",
       "\n",
       "Residual standard error: 60.71 on 19 degrees of freedom\n",
       "Multiple R-squared:  0.4386,\tAdjusted R-squared:  0.409 \n",
       "F-statistic: 14.84 on 1 and 19 DF,  p-value: 0.001073\n"
      ]
     },
     "metadata": {},
     "output_type": "display_data"
    },
    {
     "data": {
      "text/plain": [
       "\n",
       "Call:\n",
       "lm(formula = SalesPerCapita ~ GDPperHead + UnemploymentRate, \n",
       "    data = EuropeanSales)\n",
       "\n",
       "Residuals:\n",
       "    Min      1Q  Median      3Q     Max \n",
       "-59.856 -32.481 -12.669   8.062 204.332 \n",
       "\n",
       "Coefficients:\n",
       "                 Estimate Std. Error t value Pr(>|t|)   \n",
       "(Intercept)      -33.4927    64.4695  -0.520  0.60973   \n",
       "GDPperHead         3.1424     0.8499   3.697  0.00165 **\n",
       "UnemploymentRate   4.0294     5.0770   0.794  0.43774   \n",
       "---\n",
       "Signif. codes:  0 '***' 0.001 '**' 0.01 '*' 0.05 '.' 0.1 ' ' 1\n",
       "\n",
       "Residual standard error: 61.31 on 18 degrees of freedom\n",
       "Multiple R-squared:  0.4576,\tAdjusted R-squared:  0.3973 \n",
       "F-statistic: 7.592 on 2 and 18 DF,  p-value: 0.004066\n"
      ]
     },
     "metadata": {},
     "output_type": "display_data"
    },
    {
     "data": {
      "text/plain": [
       "\n",
       "Call:\n",
       "lm(formula = SalesPerCapita ~ GDPperHead + Population, data = EuropeanSales)\n",
       "\n",
       "Residuals:\n",
       "   Min     1Q Median     3Q    Max \n",
       "-59.59 -32.73 -19.41  19.71 206.27 \n",
       "\n",
       "Coefficients:\n",
       "            Estimate Std. Error t value Pr(>|t|)   \n",
       "(Intercept)  32.0289    35.2854   0.908  0.37602   \n",
       "GDPperHead    2.6640     0.7358   3.620  0.00196 **\n",
       "Population   -0.5685     0.5253  -1.082  0.29344   \n",
       "---\n",
       "Signif. codes:  0 '***' 0.001 '**' 0.01 '*' 0.05 '.' 0.1 ' ' 1\n",
       "\n",
       "Residual standard error: 60.44 on 18 degrees of freedom\n",
       "Multiple R-squared:  0.4729,\tAdjusted R-squared:  0.4143 \n",
       "F-statistic: 8.074 on 2 and 18 DF,  p-value: 0.003142\n"
      ]
     },
     "metadata": {},
     "output_type": "display_data"
    },
    {
     "data": {
      "text/plain": [
       "\n",
       "Call:\n",
       "lm(formula = SalesPerCapita ~ GDPperHead + EducationSpending + \n",
       "    Population, data = EuropeanSales)\n",
       "\n",
       "Residuals:\n",
       "   Min     1Q Median     3Q    Max \n",
       "-63.30 -33.21 -13.92  15.83 199.24 \n",
       "\n",
       "Coefficients:\n",
       "                  Estimate Std. Error t value Pr(>|t|)  \n",
       "(Intercept)       -43.9727    63.3502  -0.694   0.4970  \n",
       "GDPperHead          1.9532     0.8718   2.241   0.0387 *\n",
       "EducationSpending  18.8188    13.1863   1.427   0.1716  \n",
       "Population         -0.3896     0.5260  -0.741   0.4690  \n",
       "---\n",
       "Signif. codes:  0 '***' 0.001 '**' 0.01 '*' 0.05 '.' 0.1 ' ' 1\n",
       "\n",
       "Residual standard error: 58.77 on 17 degrees of freedom\n",
       "Multiple R-squared:  0.5293,\tAdjusted R-squared:  0.4462 \n",
       "F-statistic: 6.372 on 3 and 17 DF,  p-value: 0.004316\n"
      ]
     },
     "metadata": {},
     "output_type": "display_data"
    },
    {
     "data": {
      "text/plain": [
       "\n",
       "Call:\n",
       "lm(formula = SalesPerCapita ~ GDPperHead + EducationSpending + \n",
       "    Population + ComputerSales, data = EuropeanSales)\n",
       "\n",
       "Residuals:\n",
       "    Min      1Q  Median      3Q     Max \n",
       "-47.663 -20.079 -12.263   3.392 188.984 \n",
       "\n",
       "Coefficients:\n",
       "                    Estimate Std. Error t value Pr(>|t|)  \n",
       "(Intercept)       -20.076775  62.210155  -0.323   0.7511  \n",
       "GDPperHead          1.341203   0.912651   1.470   0.1611  \n",
       "EducationSpending  17.720604  12.603113   1.406   0.1788  \n",
       "Population         -1.728230   0.961751  -1.797   0.0912 .\n",
       "ComputerSales       0.016125   0.009881   1.632   0.1222  \n",
       "---\n",
       "Signif. codes:  0 '***' 0.001 '**' 0.01 '*' 0.05 '.' 0.1 ' ' 1\n",
       "\n",
       "Residual standard error: 56.09 on 16 degrees of freedom\n",
       "Multiple R-squared:  0.5964,\tAdjusted R-squared:  0.4955 \n",
       "F-statistic: 5.912 on 4 and 16 DF,  p-value: 0.00406\n"
      ]
     },
     "metadata": {},
     "output_type": "display_data"
    }
   ],
   "source": [
    "# Model for SalesPerCapita\n",
    "\n",
    "model1 <- lm(SalesPerCapita ~ GDPperHead , data=EuropeanSales)\n",
    "summary(model1)\n",
    "\n",
    "model2 <- lm(SalesPerCapita ~ GDPperHead  + UnemploymentRate, data=EuropeanSales)\n",
    "summary(model2)\n",
    "\n",
    "model3 <- lm(SalesPerCapita ~ GDPperHead + Population , data=EuropeanSales)\n",
    "summary(model3)\n",
    "\n",
    "model4 <- lm(SalesPerCapita ~ GDPperHead  + EducationSpending + Population, data=EuropeanSales)\n",
    "summary(model4)\n",
    "\n",
    "model5 <- lm(SalesPerCapita ~ GDPperHead  + EducationSpending + Population + ComputerSales, data=EuropeanSales)\n",
    "summary(model5)\n",
    "\n",
    "# It seems model5 is the best for sales per capita. \n",
    "# Because R-squared value higher than other models and p-value is low and it means the model statistically significant. "
   ]
  },
  {
   "cell_type": "code",
   "execution_count": 75,
   "metadata": {},
   "outputs": [
    {
     "data": {
      "text/plain": [
       "\n",
       "Call:\n",
       "lm(formula = ComputerSales ~ Population + GDPperHead, data = EuropeanSales)\n",
       "\n",
       "Residuals:\n",
       "    Min      1Q  Median      3Q     Max \n",
       "-2560.6  -566.1   115.6   456.7  4304.7 \n",
       "\n",
       "Coefficients:\n",
       "            Estimate Std. Error t value Pr(>|t|)    \n",
       "(Intercept) -1206.88     782.23  -1.543    0.140    \n",
       "Population     82.37      11.65   7.073 1.35e-06 ***\n",
       "GDPperHead     40.53      16.31   2.484    0.023 *  \n",
       "---\n",
       "Signif. codes:  0 '***' 0.001 '**' 0.01 '*' 0.05 '.' 0.1 ' ' 1\n",
       "\n",
       "Residual standard error: 1340 on 18 degrees of freedom\n",
       "Multiple R-squared:  0.7415,\tAdjusted R-squared:  0.7127 \n",
       "F-statistic: 25.81 on 2 and 18 DF,  p-value: 5.159e-06\n"
      ]
     },
     "metadata": {},
     "output_type": "display_data"
    },
    {
     "data": {
      "text/plain": [
       "\n",
       "Call:\n",
       "lm(formula = ComputerSales ~ Population + GDPperHead + UnemploymentRate, \n",
       "    data = EuropeanSales)\n",
       "\n",
       "Residuals:\n",
       "    Min      1Q  Median      3Q     Max \n",
       "-2396.4  -564.7    47.2   316.3  4451.7 \n",
       "\n",
       "Coefficients:\n",
       "                 Estimate Std. Error t value Pr(>|t|)    \n",
       "(Intercept)      -1765.39    1442.89  -1.224   0.2378    \n",
       "Population          80.79      12.38   6.526 5.18e-06 ***\n",
       "GDPperHead          44.75      19.00   2.356   0.0307 *  \n",
       "UnemploymentRate    54.86     117.95   0.465   0.6478    \n",
       "---\n",
       "Signif. codes:  0 '***' 0.001 '**' 0.01 '*' 0.05 '.' 0.1 ' ' 1\n",
       "\n",
       "Residual standard error: 1370 on 17 degrees of freedom\n",
       "Multiple R-squared:  0.7447,\tAdjusted R-squared:  0.6997 \n",
       "F-statistic: 16.53 on 3 and 17 DF,  p-value: 2.747e-05\n"
      ]
     },
     "metadata": {},
     "output_type": "display_data"
    },
    {
     "data": {
      "text/plain": [
       "\n",
       "Call:\n",
       "lm(formula = ComputerSales ~ Population + UnemploymentRate + \n",
       "    EducationSpending, data = EuropeanSales)\n",
       "\n",
       "Residuals:\n",
       "    Min      1Q  Median      3Q     Max \n",
       "-3173.2  -638.9   117.1   287.3  4560.8 \n",
       "\n",
       "Coefficients:\n",
       "                  Estimate Std. Error t value Pr(>|t|)    \n",
       "(Intercept)       -1350.61    2019.95  -0.669    0.513    \n",
       "Population           84.17      13.92   6.047 1.31e-05 ***\n",
       "UnemploymentRate    -40.99     117.28  -0.350    0.731    \n",
       "EducationSpending   371.79     285.68   1.301    0.210    \n",
       "---\n",
       "Signif. codes:  0 '***' 0.001 '**' 0.01 '*' 0.05 '.' 0.1 ' ' 1\n",
       "\n",
       "Residual standard error: 1505 on 17 degrees of freedom\n",
       "Multiple R-squared:  0.692,\tAdjusted R-squared:  0.6377 \n",
       "F-statistic: 12.73 on 3 and 17 DF,  p-value: 0.0001311\n"
      ]
     },
     "metadata": {},
     "output_type": "display_data"
    }
   ],
   "source": [
    "# Model for  ComputerSales\n",
    "model6 <- lm(ComputerSales ~ Population + GDPperHead, data=EuropeanSales)\n",
    "summary(model6)\n",
    "\n",
    "model7 <- lm(ComputerSales ~ Population + GDPperHead + UnemploymentRate, data=EuropeanSales)\n",
    "summary(model7)\n",
    "\n",
    "model8 <- lm(ComputerSales ~ Population + UnemploymentRate + EducationSpending , data=EuropeanSales)\n",
    "summary(model8)\n",
    "\n",
    "# It seems model6 is the best for sales computer sales. \n",
    "# Because R-squared value higher model8 and similar to model7 but R-squared and Adjusted R-squared values more close than model7\n",
    "# and p-value is low and it means the model statistically significant. "
   ]
  },
  {
   "cell_type": "code",
   "execution_count": 57,
   "metadata": {},
   "outputs": [
    {
     "data": {
      "text/html": [
       "<dl>\n",
       "\t<dt>$names</dt>\n",
       "\t\t<dd><ol class=list-inline>\n",
       "\t<li>'coefficients'</li>\n",
       "\t<li>'residuals'</li>\n",
       "\t<li>'effects'</li>\n",
       "\t<li>'rank'</li>\n",
       "\t<li>'fitted.values'</li>\n",
       "\t<li>'assign'</li>\n",
       "\t<li>'qr'</li>\n",
       "\t<li>'df.residual'</li>\n",
       "\t<li>'xlevels'</li>\n",
       "\t<li>'call'</li>\n",
       "\t<li>'terms'</li>\n",
       "\t<li>'model'</li>\n",
       "</ol>\n",
       "</dd>\n",
       "\t<dt>$class</dt>\n",
       "\t\t<dd>'lm'</dd>\n",
       "</dl>\n"
      ],
      "text/latex": [
       "\\begin{description}\n",
       "\\item[\\$names] \\begin{enumerate*}\n",
       "\\item 'coefficients'\n",
       "\\item 'residuals'\n",
       "\\item 'effects'\n",
       "\\item 'rank'\n",
       "\\item 'fitted.values'\n",
       "\\item 'assign'\n",
       "\\item 'qr'\n",
       "\\item 'df.residual'\n",
       "\\item 'xlevels'\n",
       "\\item 'call'\n",
       "\\item 'terms'\n",
       "\\item 'model'\n",
       "\\end{enumerate*}\n",
       "\n",
       "\\item[\\$class] 'lm'\n",
       "\\end{description}\n"
      ],
      "text/markdown": [
       "$names\n",
       ":   1. 'coefficients'\n",
       "2. 'residuals'\n",
       "3. 'effects'\n",
       "4. 'rank'\n",
       "5. 'fitted.values'\n",
       "6. 'assign'\n",
       "7. 'qr'\n",
       "8. 'df.residual'\n",
       "9. 'xlevels'\n",
       "10. 'call'\n",
       "11. 'terms'\n",
       "12. 'model'\n",
       "\n",
       "\n",
       "\n",
       "$class\n",
       ":   'lm'\n",
       "\n",
       "\n"
      ],
      "text/plain": [
       "$names\n",
       " [1] \"coefficients\"  \"residuals\"     \"effects\"       \"rank\"         \n",
       " [5] \"fitted.values\" \"assign\"        \"qr\"            \"df.residual\"  \n",
       " [9] \"xlevels\"       \"call\"          \"terms\"         \"model\"        \n",
       "\n",
       "$class\n",
       "[1] \"lm\"\n"
      ]
     },
     "metadata": {},
     "output_type": "display_data"
    },
    {
     "data": {
      "text/html": [
       "<dl class=dl-horizontal>\n",
       "\t<dt>(Intercept)</dt>\n",
       "\t\t<dd>11.6760849650717</dd>\n",
       "\t<dt>GDPperHead</dt>\n",
       "\t\t<dd>2.80353173511945</dd>\n",
       "</dl>\n"
      ],
      "text/latex": [
       "\\begin{description*}\n",
       "\\item[(Intercept)] 11.6760849650717\n",
       "\\item[GDPperHead] 2.80353173511945\n",
       "\\end{description*}\n"
      ],
      "text/markdown": [
       "(Intercept)\n",
       ":   11.6760849650717GDPperHead\n",
       ":   2.80353173511945\n",
       "\n"
      ],
      "text/plain": [
       "(Intercept)  GDPperHead \n",
       "  11.676085    2.803532 "
      ]
     },
     "metadata": {},
     "output_type": "display_data"
    },
    {
     "data": {
      "text/html": [
       "<dl>\n",
       "\t<dt>$names</dt>\n",
       "\t\t<dd><ol class=list-inline>\n",
       "\t<li>'coefficients'</li>\n",
       "\t<li>'residuals'</li>\n",
       "\t<li>'effects'</li>\n",
       "\t<li>'rank'</li>\n",
       "\t<li>'fitted.values'</li>\n",
       "\t<li>'assign'</li>\n",
       "\t<li>'qr'</li>\n",
       "\t<li>'df.residual'</li>\n",
       "\t<li>'xlevels'</li>\n",
       "\t<li>'call'</li>\n",
       "\t<li>'terms'</li>\n",
       "\t<li>'model'</li>\n",
       "</ol>\n",
       "</dd>\n",
       "\t<dt>$class</dt>\n",
       "\t\t<dd>'lm'</dd>\n",
       "</dl>\n"
      ],
      "text/latex": [
       "\\begin{description}\n",
       "\\item[\\$names] \\begin{enumerate*}\n",
       "\\item 'coefficients'\n",
       "\\item 'residuals'\n",
       "\\item 'effects'\n",
       "\\item 'rank'\n",
       "\\item 'fitted.values'\n",
       "\\item 'assign'\n",
       "\\item 'qr'\n",
       "\\item 'df.residual'\n",
       "\\item 'xlevels'\n",
       "\\item 'call'\n",
       "\\item 'terms'\n",
       "\\item 'model'\n",
       "\\end{enumerate*}\n",
       "\n",
       "\\item[\\$class] 'lm'\n",
       "\\end{description}\n"
      ],
      "text/markdown": [
       "$names\n",
       ":   1. 'coefficients'\n",
       "2. 'residuals'\n",
       "3. 'effects'\n",
       "4. 'rank'\n",
       "5. 'fitted.values'\n",
       "6. 'assign'\n",
       "7. 'qr'\n",
       "8. 'df.residual'\n",
       "9. 'xlevels'\n",
       "10. 'call'\n",
       "11. 'terms'\n",
       "12. 'model'\n",
       "\n",
       "\n",
       "\n",
       "$class\n",
       ":   'lm'\n",
       "\n",
       "\n"
      ],
      "text/plain": [
       "$names\n",
       " [1] \"coefficients\"  \"residuals\"     \"effects\"       \"rank\"         \n",
       " [5] \"fitted.values\" \"assign\"        \"qr\"            \"df.residual\"  \n",
       " [9] \"xlevels\"       \"call\"          \"terms\"         \"model\"        \n",
       "\n",
       "$class\n",
       "[1] \"lm\"\n"
      ]
     },
     "metadata": {},
     "output_type": "display_data"
    },
    {
     "data": {
      "text/html": [
       "<dl class=dl-horizontal>\n",
       "\t<dt>(Intercept)</dt>\n",
       "\t\t<dd>-33.4926777974026</dd>\n",
       "\t<dt>GDPperHead</dt>\n",
       "\t\t<dd>3.14244451901933</dd>\n",
       "\t<dt>UnemploymentRate</dt>\n",
       "\t\t<dd>4.0293661784415</dd>\n",
       "</dl>\n"
      ],
      "text/latex": [
       "\\begin{description*}\n",
       "\\item[(Intercept)] -33.4926777974026\n",
       "\\item[GDPperHead] 3.14244451901933\n",
       "\\item[UnemploymentRate] 4.0293661784415\n",
       "\\end{description*}\n"
      ],
      "text/markdown": [
       "(Intercept)\n",
       ":   -33.4926777974026GDPperHead\n",
       ":   3.14244451901933UnemploymentRate\n",
       ":   4.0293661784415\n",
       "\n"
      ],
      "text/plain": [
       "     (Intercept)       GDPperHead UnemploymentRate \n",
       "      -33.492678         3.142445         4.029366 "
      ]
     },
     "metadata": {},
     "output_type": "display_data"
    },
    {
     "data": {
      "text/html": [
       "<dl>\n",
       "\t<dt>$names</dt>\n",
       "\t\t<dd><ol class=list-inline>\n",
       "\t<li>'coefficients'</li>\n",
       "\t<li>'residuals'</li>\n",
       "\t<li>'effects'</li>\n",
       "\t<li>'rank'</li>\n",
       "\t<li>'fitted.values'</li>\n",
       "\t<li>'assign'</li>\n",
       "\t<li>'qr'</li>\n",
       "\t<li>'df.residual'</li>\n",
       "\t<li>'xlevels'</li>\n",
       "\t<li>'call'</li>\n",
       "\t<li>'terms'</li>\n",
       "\t<li>'model'</li>\n",
       "</ol>\n",
       "</dd>\n",
       "\t<dt>$class</dt>\n",
       "\t\t<dd>'lm'</dd>\n",
       "</dl>\n"
      ],
      "text/latex": [
       "\\begin{description}\n",
       "\\item[\\$names] \\begin{enumerate*}\n",
       "\\item 'coefficients'\n",
       "\\item 'residuals'\n",
       "\\item 'effects'\n",
       "\\item 'rank'\n",
       "\\item 'fitted.values'\n",
       "\\item 'assign'\n",
       "\\item 'qr'\n",
       "\\item 'df.residual'\n",
       "\\item 'xlevels'\n",
       "\\item 'call'\n",
       "\\item 'terms'\n",
       "\\item 'model'\n",
       "\\end{enumerate*}\n",
       "\n",
       "\\item[\\$class] 'lm'\n",
       "\\end{description}\n"
      ],
      "text/markdown": [
       "$names\n",
       ":   1. 'coefficients'\n",
       "2. 'residuals'\n",
       "3. 'effects'\n",
       "4. 'rank'\n",
       "5. 'fitted.values'\n",
       "6. 'assign'\n",
       "7. 'qr'\n",
       "8. 'df.residual'\n",
       "9. 'xlevels'\n",
       "10. 'call'\n",
       "11. 'terms'\n",
       "12. 'model'\n",
       "\n",
       "\n",
       "\n",
       "$class\n",
       ":   'lm'\n",
       "\n",
       "\n"
      ],
      "text/plain": [
       "$names\n",
       " [1] \"coefficients\"  \"residuals\"     \"effects\"       \"rank\"         \n",
       " [5] \"fitted.values\" \"assign\"        \"qr\"            \"df.residual\"  \n",
       " [9] \"xlevels\"       \"call\"          \"terms\"         \"model\"        \n",
       "\n",
       "$class\n",
       "[1] \"lm\"\n"
      ]
     },
     "metadata": {},
     "output_type": "display_data"
    },
    {
     "data": {
      "text/html": [
       "<dl class=dl-horizontal>\n",
       "\t<dt>(Intercept)</dt>\n",
       "\t\t<dd>-1765.39328535304</dd>\n",
       "\t<dt>Population</dt>\n",
       "\t\t<dd>80.7944972235623</dd>\n",
       "\t<dt>GDPperHead</dt>\n",
       "\t\t<dd>44.7542085350028</dd>\n",
       "\t<dt>UnemploymentRate</dt>\n",
       "\t\t<dd>54.8558608674176</dd>\n",
       "</dl>\n"
      ],
      "text/latex": [
       "\\begin{description*}\n",
       "\\item[(Intercept)] -1765.39328535304\n",
       "\\item[Population] 80.7944972235623\n",
       "\\item[GDPperHead] 44.7542085350028\n",
       "\\item[UnemploymentRate] 54.8558608674176\n",
       "\\end{description*}\n"
      ],
      "text/markdown": [
       "(Intercept)\n",
       ":   -1765.39328535304Population\n",
       ":   80.7944972235623GDPperHead\n",
       ":   44.7542085350028UnemploymentRate\n",
       ":   54.8558608674176\n",
       "\n"
      ],
      "text/plain": [
       "     (Intercept)       Population       GDPperHead UnemploymentRate \n",
       "     -1765.39329         80.79450         44.75421         54.85586 "
      ]
     },
     "metadata": {},
     "output_type": "display_data"
    },
    {
     "data": {
      "text/html": [
       "<dl>\n",
       "\t<dt>$names</dt>\n",
       "\t\t<dd><ol class=list-inline>\n",
       "\t<li>'coefficients'</li>\n",
       "\t<li>'residuals'</li>\n",
       "\t<li>'effects'</li>\n",
       "\t<li>'rank'</li>\n",
       "\t<li>'fitted.values'</li>\n",
       "\t<li>'assign'</li>\n",
       "\t<li>'qr'</li>\n",
       "\t<li>'df.residual'</li>\n",
       "\t<li>'xlevels'</li>\n",
       "\t<li>'call'</li>\n",
       "\t<li>'terms'</li>\n",
       "\t<li>'model'</li>\n",
       "</ol>\n",
       "</dd>\n",
       "\t<dt>$class</dt>\n",
       "\t\t<dd>'lm'</dd>\n",
       "</dl>\n"
      ],
      "text/latex": [
       "\\begin{description}\n",
       "\\item[\\$names] \\begin{enumerate*}\n",
       "\\item 'coefficients'\n",
       "\\item 'residuals'\n",
       "\\item 'effects'\n",
       "\\item 'rank'\n",
       "\\item 'fitted.values'\n",
       "\\item 'assign'\n",
       "\\item 'qr'\n",
       "\\item 'df.residual'\n",
       "\\item 'xlevels'\n",
       "\\item 'call'\n",
       "\\item 'terms'\n",
       "\\item 'model'\n",
       "\\end{enumerate*}\n",
       "\n",
       "\\item[\\$class] 'lm'\n",
       "\\end{description}\n"
      ],
      "text/markdown": [
       "$names\n",
       ":   1. 'coefficients'\n",
       "2. 'residuals'\n",
       "3. 'effects'\n",
       "4. 'rank'\n",
       "5. 'fitted.values'\n",
       "6. 'assign'\n",
       "7. 'qr'\n",
       "8. 'df.residual'\n",
       "9. 'xlevels'\n",
       "10. 'call'\n",
       "11. 'terms'\n",
       "12. 'model'\n",
       "\n",
       "\n",
       "\n",
       "$class\n",
       ":   'lm'\n",
       "\n",
       "\n"
      ],
      "text/plain": [
       "$names\n",
       " [1] \"coefficients\"  \"residuals\"     \"effects\"       \"rank\"         \n",
       " [5] \"fitted.values\" \"assign\"        \"qr\"            \"df.residual\"  \n",
       " [9] \"xlevels\"       \"call\"          \"terms\"         \"model\"        \n",
       "\n",
       "$class\n",
       "[1] \"lm\"\n"
      ]
     },
     "metadata": {},
     "output_type": "display_data"
    },
    {
     "data": {
      "text/html": [
       "<dl class=dl-horizontal>\n",
       "\t<dt>(Intercept)</dt>\n",
       "\t\t<dd>193.516374443706</dd>\n",
       "\t<dt>Population</dt>\n",
       "\t\t<dd>75.0654491629884</dd>\n",
       "\t<dt>Country</dt>\n",
       "\t\t<dd>26.6598531013552</dd>\n",
       "</dl>\n"
      ],
      "text/latex": [
       "\\begin{description*}\n",
       "\\item[(Intercept)] 193.516374443706\n",
       "\\item[Population] 75.0654491629884\n",
       "\\item[Country] 26.6598531013552\n",
       "\\end{description*}\n"
      ],
      "text/markdown": [
       "(Intercept)\n",
       ":   193.516374443706Population\n",
       ":   75.0654491629884Country\n",
       ":   26.6598531013552\n",
       "\n"
      ],
      "text/plain": [
       "(Intercept)  Population     Country \n",
       "  193.51637    75.06545    26.65985 "
      ]
     },
     "metadata": {},
     "output_type": "display_data"
    }
   ],
   "source": [
    "#Model attributes and coefficients  \n",
    "attributes(model1)\n",
    "model1$coefficients\n",
    "\n",
    "attributes(model2)\n",
    "model2$coefficients\n",
    "\n",
    "attributes(model6)\n",
    "model7$coefficients\n",
    "\n",
    "attributes(model7)\n",
    "model8$coefficients\n"
   ]
  },
  {
   "cell_type": "code",
   "execution_count": null,
   "metadata": {},
   "outputs": [],
   "source": []
  }
 ],
 "metadata": {
  "kernelspec": {
   "display_name": "R",
   "language": "R",
   "name": "ir"
  },
  "language_info": {
   "codemirror_mode": "r",
   "file_extension": ".r",
   "mimetype": "text/x-r-source",
   "name": "R",
   "pygments_lexer": "r",
   "version": "3.5.1"
  }
 },
 "nbformat": 4,
 "nbformat_minor": 2
}
