{
 "cells": [
  {
   "cell_type": "code",
   "execution_count": 21,
   "metadata": {},
   "outputs": [],
   "source": [
    "#################################################################\n",
    "##    Marketing analytics                                      ##\n",
    "##    Exercise in Segmentation AND Discriminant Analysis       ##\n",
    "##    Churn Modelling Data                                     ##\n",
    "#################################################################\n",
    "\n",
    "#The libraries is used to construct classification trees.\n",
    "library (tree)\n",
    "library (ISLR)\n",
    "library(randomForest)\n",
    "library(shuffle)\n",
    "library(caTools)"
   ]
  },
  {
   "cell_type": "code",
   "execution_count": 12,
   "metadata": {},
   "outputs": [],
   "source": [
    "#Read the data\n",
    "churnModellingData <- read.csv(\"C:/Users/busea/Downloads/churn_modelling.csv\", header=T)\n",
    "\n",
    "churnModellingData<-churnModellingData[-c(1:3)]\n",
    "\n",
    "churnModellingData$Exited <- as.factor(churnModellingData$Exited)\n",
    "churnModellingData$Tenure <- as.factor(churnModellingData$Tenure)\n",
    "churnModellingData$HasCrCard <- as.factor(churnModellingData$HasCrCard)\n",
    "churnModellingData$NumOfProducts <- as.factor(churnModellingData$NumOfProducts)\n",
    "churnModellingData$IsActiveMember <- as.factor(churnModellingData$IsActiveMember)\n",
    "churnModellingData$Gender = ifelse(churnModellingData$Gender == \"Male\", 1, 0)\n",
    "churnModellingData$Gender <- as.factor(churnModellingData$Gender)\n",
    "churnModellingData$Geography=factor(churnModellingData$Geography, \n",
    "                                 levels = c(\"France\", \"Germany\", \"Spain\"), labels = c(1,2,3) )"
   ]
  },
  {
   "cell_type": "code",
   "execution_count": 13,
   "metadata": {},
   "outputs": [
    {
     "data": {
      "text/html": [
       "<table>\n",
       "<thead><tr><th scope=col>CreditScore</th><th scope=col>Geography</th><th scope=col>Gender</th><th scope=col>Age</th><th scope=col>Tenure</th><th scope=col>Balance</th><th scope=col>NumOfProducts</th><th scope=col>HasCrCard</th><th scope=col>IsActiveMember</th><th scope=col>EstimatedSalary</th><th scope=col>Exited</th></tr></thead>\n",
       "<tbody>\n",
       "\t<tr><td>619      </td><td>1        </td><td>0        </td><td>42       </td><td>2        </td><td>     0.00</td><td>1        </td><td>1        </td><td>1        </td><td>101348.88</td><td>1        </td></tr>\n",
       "\t<tr><td>608      </td><td>3        </td><td>0        </td><td>41       </td><td>1        </td><td> 83807.86</td><td>1        </td><td>0        </td><td>1        </td><td>112542.58</td><td>0        </td></tr>\n",
       "\t<tr><td>502      </td><td>1        </td><td>0        </td><td>42       </td><td>8        </td><td>159660.80</td><td>3        </td><td>1        </td><td>0        </td><td>113931.57</td><td>1        </td></tr>\n",
       "\t<tr><td>699      </td><td>1        </td><td>0        </td><td>39       </td><td>1        </td><td>     0.00</td><td>2        </td><td>0        </td><td>0        </td><td> 93826.63</td><td>0        </td></tr>\n",
       "\t<tr><td>850      </td><td>3        </td><td>0        </td><td>43       </td><td>2        </td><td>125510.82</td><td>1        </td><td>1        </td><td>1        </td><td> 79084.10</td><td>0        </td></tr>\n",
       "\t<tr><td>645      </td><td>3        </td><td>1        </td><td>44       </td><td>8        </td><td>113755.78</td><td>2        </td><td>1        </td><td>0        </td><td>149756.71</td><td>1        </td></tr>\n",
       "</tbody>\n",
       "</table>\n"
      ],
      "text/latex": [
       "\\begin{tabular}{r|lllllllllll}\n",
       " CreditScore & Geography & Gender & Age & Tenure & Balance & NumOfProducts & HasCrCard & IsActiveMember & EstimatedSalary & Exited\\\\\n",
       "\\hline\n",
       "\t 619       & 1         & 0         & 42        & 2         &      0.00 & 1         & 1         & 1         & 101348.88 & 1        \\\\\n",
       "\t 608       & 3         & 0         & 41        & 1         &  83807.86 & 1         & 0         & 1         & 112542.58 & 0        \\\\\n",
       "\t 502       & 1         & 0         & 42        & 8         & 159660.80 & 3         & 1         & 0         & 113931.57 & 1        \\\\\n",
       "\t 699       & 1         & 0         & 39        & 1         &      0.00 & 2         & 0         & 0         &  93826.63 & 0        \\\\\n",
       "\t 850       & 3         & 0         & 43        & 2         & 125510.82 & 1         & 1         & 1         &  79084.10 & 0        \\\\\n",
       "\t 645       & 3         & 1         & 44        & 8         & 113755.78 & 2         & 1         & 0         & 149756.71 & 1        \\\\\n",
       "\\end{tabular}\n"
      ],
      "text/markdown": [
       "\n",
       "| CreditScore | Geography | Gender | Age | Tenure | Balance | NumOfProducts | HasCrCard | IsActiveMember | EstimatedSalary | Exited |\n",
       "|---|---|---|---|---|---|---|---|---|---|---|\n",
       "| 619       | 1         | 0         | 42        | 2         |      0.00 | 1         | 1         | 1         | 101348.88 | 1         |\n",
       "| 608       | 3         | 0         | 41        | 1         |  83807.86 | 1         | 0         | 1         | 112542.58 | 0         |\n",
       "| 502       | 1         | 0         | 42        | 8         | 159660.80 | 3         | 1         | 0         | 113931.57 | 1         |\n",
       "| 699       | 1         | 0         | 39        | 1         |      0.00 | 2         | 0         | 0         |  93826.63 | 0         |\n",
       "| 850       | 3         | 0         | 43        | 2         | 125510.82 | 1         | 1         | 1         |  79084.10 | 0         |\n",
       "| 645       | 3         | 1         | 44        | 8         | 113755.78 | 2         | 1         | 0         | 149756.71 | 1         |\n",
       "\n"
      ],
      "text/plain": [
       "  CreditScore Geography Gender Age Tenure Balance   NumOfProducts HasCrCard\n",
       "1 619         1         0      42  2           0.00 1             1        \n",
       "2 608         3         0      41  1       83807.86 1             0        \n",
       "3 502         1         0      42  8      159660.80 3             1        \n",
       "4 699         1         0      39  1           0.00 2             0        \n",
       "5 850         3         0      43  2      125510.82 1             1        \n",
       "6 645         3         1      44  8      113755.78 2             1        \n",
       "  IsActiveMember EstimatedSalary Exited\n",
       "1 1              101348.88       1     \n",
       "2 1              112542.58       0     \n",
       "3 0              113931.57       1     \n",
       "4 0               93826.63       0     \n",
       "5 1               79084.10       0     \n",
       "6 0              149756.71       1     "
      ]
     },
     "metadata": {},
     "output_type": "display_data"
    },
    {
     "data": {
      "text/plain": [
       "  CreditScore    Geography Gender        Age            Tenure    \n",
       " Min.   :350.0   1:5014    0:4543   Min.   :18.00   2      :1048  \n",
       " 1st Qu.:584.0   2:2509    1:5457   1st Qu.:32.00   1      :1035  \n",
       " Median :652.0   3:2477             Median :37.00   7      :1028  \n",
       " Mean   :650.5                      Mean   :38.92   8      :1025  \n",
       " 3rd Qu.:718.0                      3rd Qu.:44.00   5      :1012  \n",
       " Max.   :850.0                      Max.   :92.00   3      :1009  \n",
       "                                                    (Other):3843  \n",
       "    Balance       NumOfProducts HasCrCard IsActiveMember EstimatedSalary    \n",
       " Min.   :     0   1:5084        0:2945    0:4849         Min.   :    11.58  \n",
       " 1st Qu.:     0   2:4590        1:7055    1:5151         1st Qu.: 51002.11  \n",
       " Median : 97199   3: 266                                 Median :100193.91  \n",
       " Mean   : 76486   4:  60                                 Mean   :100090.24  \n",
       " 3rd Qu.:127644                                          3rd Qu.:149388.25  \n",
       " Max.   :250898                                          Max.   :199992.48  \n",
       "                                                                            \n",
       " Exited  \n",
       " 0:7963  \n",
       " 1:2037  \n",
       "         \n",
       "         \n",
       "         \n",
       "         \n",
       "         "
      ]
     },
     "metadata": {},
     "output_type": "display_data"
    }
   ],
   "source": [
    "#Observe a few examples\n",
    "head(churnModellingData)\n",
    "summary(churnModellingData)"
   ]
  },
  {
   "cell_type": "code",
   "execution_count": 32,
   "metadata": {},
   "outputs": [
    {
     "name": "stdout",
     "output_type": "stream",
     "text": [
      "[1] 0.837\n",
      "[1] 0.841\n",
      "[1] 0.87\n",
      "[1] 0.855\n",
      "[1] 0.837\n",
      "[1] 0.85\n",
      "[1] 0.838\n",
      "[1] 0.865\n",
      "[1] 0.841\n",
      "[1] 0.844\n"
     ]
    }
   ],
   "source": [
    "#cross validation\n",
    "#Randomly shuffle the data\n",
    "churnModellingData<-churnModellingData[sample(nrow(churnModellingData)),]\n",
    "\n",
    "#Create 10 equally size folds\n",
    "folds <- cut(seq(1,nrow(churnModellingData)),breaks=10,labels=FALSE)\n",
    "\n",
    "#Perform 10 fold cross validation\n",
    "for(i in 1:10){\n",
    "  \n",
    "  testIndexes <- which(folds==i,arr.ind=TRUE)\n",
    "  testData <- churnModellingData[testIndexes, ]\n",
    "  trainData <- churnModellingData[-testIndexes, ]\n",
    "  treepredmodel = tree(formula= Exited~., data = trainData )\n",
    "\n",
    "  #Test the predictions of the trained model\n",
    "  testpredictions = predict(treepredmodel, testData, type =\"class\")\n",
    "  \n",
    "  #Find the accuracy of the model\n",
    "  cm =table(testpredictions, testData$Exited)\n",
    "  accuracy[i]= (cm[1,1] + cm[2,2]) / (cm[1,1] + cm[2,2] + cm[1,2] + cm[2,1])\n",
    "\n",
    "  #Display the accuracy of the model in test data\n",
    "  print(accuracy[i])\n",
    "\n",
    "}"
   ]
  },
  {
   "cell_type": "code",
   "execution_count": 33,
   "metadata": {},
   "outputs": [
    {
     "name": "stdout",
     "output_type": "stream",
     "text": [
      "[1] 0.8478\n"
     ]
    }
   ],
   "source": [
    "#average accuracy for the model\n",
    "accuracyDT= (accuracy[1]+accuracy[2]+accuracy[3]+accuracy[4]+accuracy[5]+accuracy[6]+accuracy[7]+accuracy[8]+accuracy[9]+accuracy[10])/10\n",
    "print(accuracyDT)"
   ]
  },
  {
   "cell_type": "code",
   "execution_count": 34,
   "metadata": {},
   "outputs": [
    {
     "data": {
      "image/png": "[encoded data removed]",
      "text/plain": [
       "plot without title"
      ]
     },
     "metadata": {},
     "output_type": "display_data"
    }
   ],
   "source": [
    "plot(treepredmodel)\n",
    "text(treepredmodel,pretty=0)"
   ]
  },
  {
   "cell_type": "code",
   "execution_count": 35,
   "metadata": {},
   "outputs": [
    {
     "data": {
      "image/png": "[encoded data removed]",
      "text/plain": [
       "Plot with title \"model2\""
      ]
     },
     "metadata": {},
     "output_type": "display_data"
    }
   ],
   "source": [
    "#Random Forest\n",
    "set.seed(1234)\n",
    "\n",
    "split=sample.split(churnModellingData, SplitRatio = 0.8)\n",
    "trainData2=subset(churnModellingData, split == TRUE)\n",
    "testData2=subset(churnModellingData, split == FALSE)\n",
    "\n",
    "model2 =randomForest(as.factor(Exited) ~ ., data = trainData2, ntree=100)\n",
    "plot(model2)"
   ]
  },
  {
   "cell_type": "code",
   "execution_count": 36,
   "metadata": {},
   "outputs": [
    {
     "name": "stdout",
     "output_type": "stream",
     "text": [
      "[1] 0.8610194\n"
     ]
    }
   ],
   "source": [
    "#Random Forest Predictions\n",
    "testpredictions2= predict(model2,testData2)\n",
    "\n",
    "#Find the accuracy of the model\n",
    "cm =table(testpredictions2, testData2$Exited)\n",
    "\n",
    "#Display the accuracy of the model in test data\n",
    "accuracy2 = (cm[1,1] + cm[2,2]) / (cm[1,1] + cm[2,2] + cm[1,2] + cm[2,1])\n",
    "print(accuracy2)"
   ]
  }
 ],
 "metadata": {
  "kernelspec": {
   "display_name": "R",
   "language": "R",
   "name": "ir"
  },
  "language_info": {
   "codemirror_mode": "r",
   "file_extension": ".r",
   "mimetype": "text/x-r-source",
   "name": "R",
   "pygments_lexer": "r",
   "version": "3.5.1"
  }
 },
 "nbformat": 4,
 "nbformat_minor": 2
}
